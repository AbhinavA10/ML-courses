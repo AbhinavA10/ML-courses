{
 "cells": [
  {
   "cell_type": "markdown",
   "metadata": {},
   "source": [
    "<a href=\"https://www.skills.network/\"><img src=\"https://cf-courses-data.s3.us.cloud-object-storage.appdomain.cloud/IBM-DL0120ENedX/labs/Template%20for%20Instructional%20Hands-on%20Labs/images/IDSNlogo.png\" width=\"400px\" align=\"center\"></a>\n",
    "\n",
    "<h1 align=\"center\"><font size=\"5\">RESTRICTED BOLTZMANN MACHINES</font></h1>\n"
   ]
  },
  {
   "cell_type": "markdown",
   "metadata": {},
   "source": [
    "<h3>Introduction</h3>\n",
    "<b>Restricted Boltzmann Machine (RBM):</b>  RBMs are shallow neural nets that learn to reconstruct data by themselves in an unsupervised fashion.  \n",
    "\n",
    "<h4>Why are RBMs important?</h4>\n",
    "An RBM are a basic form of autoencoder.  It can automatically extract <b>meaningful</b> features from a given input.\n",
    "\n",
    "<h4>How does it work?</h4>\n",
    "RBM is a 2 layer neural network. Simply, RBM takes the inputs and translates those into a set of binary values that represents them in the hidden layer. Then, these numbers can be translated back to reconstruct the inputs. Through several forward and backward passes, the RBM will be trained, and a trained RBM can reveal which features are the most important ones when detecting patterns.   \n",
    "\n",
    "<h4>What are the applications of an RBM?</h4>\n",
    "RBM is useful for <a href='http://www.cs.utoronto.ca/~hinton/absps/netflixICML.pdf'>  Collaborative Filtering</a>, dimensionality reduction, classification, regression, feature learning, topic modeling and even <b>Deep Belief Networks</b>.\n",
    "\n",
    "<h4>Is RBM a generative or Discriminative model?</h4>\n",
    "RBM is a generative model. Let me explain it by first, see what is different between discriminative and generative models: \n",
    "\n",
    "<b>Discriminative:</b> Consider a classification problem where we want to learn to distinguish between Sedan cars (y = 1) and SUV cars (y = 0), based on some features of cars. Given a training set, an algorithm like logistic regression tries to find a straight line, or <i>decision boundary</i>, that separates the suv and sedan.  \n",
    "\n",
    "<b>Generative:</b> looking at cars, we can build a model of what Sedan cars look like. Then, looking at SUVs, we can build a separate model of what SUV cars look like. Finally, to classify a new car, we can match the new car against the Sedan model, and match it against the SUV model, to see whether the new car looks more like the SUV or Sedan. \n",
    "\n",
    "Generative Models specify a probability distribution over a dataset of input vectors. We can carry out both supervised and unsupervised tasks with generative models:\n",
    "\n",
    "<ul>\n",
    "    <li>In an unsupervised task, we try to form a model for $P(x)$, where $P$ is the probability given $x$ as an input vector.</li>\n",
    "    <li>In the supervised task, we first form a model for $P(x|y)$, where $P$ is the probability of $x$ given $y$(the label for $x$). For example, if $y = 0$ indicates that a car is an SUV, and $y = 1$ indicates that a car is a sedan, then $p(x|y = 0)$ models the distribution of SUV features, and $p(x|y = 1)$ models the distribution of sedan features. If we manage to find $P(x|y)$ and $P(y)$, then we can use <b>Bayes rule</b> to estimate $P(y|x)$, because:   \n",
    "        $$p(y|x) = \\frac{p(x|y)p(y)}{p(x)}$$</li>\n",
    "</ul>\n",
    "Now the question is, can we build a generative model, and then use it to create synthetic data by directly sampling from the modeled probability distributions? Lets see. \n"
   ]
  },
  {
   "cell_type": "markdown",
   "metadata": {},
   "source": [
    "<h2>Table of Contents</h2>\n",
    "<ol>\n",
    "    <li><a href=\"#ref1\">Initialization</a></li>\n",
    "    <li><a href=\"#ref2\">RBM layers</a></li>\n",
    "    <li><a href=\"#ref3\">What RBM can do after training?</a></li>\n",
    "    <li><a href=\"#ref4\">How to train the model?</a></li>\n",
    "    <li><a href=\"#ref5\">Learned features</a></li>\n",
    "</ol>\n",
    "<p></p>\n",
    "</div>\n",
    "<br>\n",
    "\n",
    "<hr>\n"
   ]
  },
  {
   "cell_type": "markdown",
   "metadata": {},
   "source": [
    "<a id=\"ref1\"></a>\n",
    "\n",
    "<h3>Initialization</h3>\n",
    "\n",
    "First, we have to load the utility file which contains different utility functions that are not connected\n",
    "in any way to the networks presented in the tutorials, but rather help in\n",
    "processing the outputs into a more understandable way.\n"
   ]
  },
  {
   "cell_type": "code",
   "execution_count": 1,
   "metadata": {},
   "outputs": [],
   "source": [
    "import urllib.request\n",
    "with urllib.request.urlopen(\"https://cf-courses-data.s3.us.cloud-object-storage.appdomain.cloud/IBMDeveloperSkillsNetwork-DL0120EN-SkillsNetwork/labs/Week4/data/utils.py\") as url:\n",
    "    response = url.read()\n",
    "target = open('utils.py', 'w')\n",
    "target.write(response.decode('utf-8'))\n",
    "target.close()"
   ]
  },
  {
   "cell_type": "code",
   "execution_count": 2,
   "metadata": {},
   "outputs": [],
   "source": [
    "from IPython.display import Markdown, display"
   ]
  },
  {
   "cell_type": "markdown",
   "metadata": {},
   "source": [
    "Now, we load in all the packages that we use to create the net including the TensorFlow package:\n"
   ]
  },
  {
   "cell_type": "code",
   "execution_count": 3,
   "metadata": {},
   "outputs": [],
   "source": [
    "import tensorflow as tf\n",
    "import numpy as np\n",
    "\n",
    "from PIL import Image\n",
    "from utils import tile_raster_images\n",
    "import matplotlib.pyplot as plt\n",
    "%matplotlib inline"
   ]
  },
  {
   "cell_type": "markdown",
   "metadata": {},
   "source": [
    "<hr>\n"
   ]
  },
  {
   "cell_type": "markdown",
   "metadata": {},
   "source": [
    "<a id=\"ref2\"></a>\n",
    "\n",
    "<h3>RBM layers</h3>\n",
    "\n",
    "An RBM has two layers. The first layer of the RBM is called the <b>visible</b> (or input layer). Imagine that our toy example, has only vectors with 7 values, so the visible layer must have $V=7$ input nodes. \n",
    "The second layer is the <b>hidden</b> layer, which has $H$ neurons in our case. Each hidden node takes on values of either 0 or 1 (i.e., $h_i = 1$ or $h_i$ = 0), with a probability that is a logistic function of the inputs it receives from the other $V$ visible units, called for example, $p(h_i = 1)$. For our toy sample, we'll use 2 nodes in the hidden layer, so $H = 2$.\n",
    "\n",
    "<center><img src=\"https://ibm.box.com/shared/static/eu26opvcefgls6vnwuo29uwp0nudmokh.png\" alt=\"RBM Model\" style=\"width: 400px;\"></center>\n"
   ]
  },
  {
   "cell_type": "markdown",
   "metadata": {},
   "source": [
    "Each node in the first layer also has a <b>bias</b>. We will denote the bias as $v_{bias}$, and this single value is shared among the $V$ visible units.\n",
    "\n",
    "The <b>bias</b> of the second is defined similarly as $h_{bias}$, and this single value among the $H$ hidden units.\n"
   ]
  },
  {
   "cell_type": "code",
   "execution_count": 4,
   "metadata": {},
   "outputs": [],
   "source": [
    "v_bias = tf.Variable(tf.zeros([7]), tf.float32)\n",
    "h_bias = tf.Variable(tf.zeros([2]), tf.float32)"
   ]
  },
  {
   "cell_type": "markdown",
   "metadata": {},
   "source": [
    "We have to define weights among the input layer and hidden layer nodes. In the weight matrix, the number of rows are equal to the input nodes, and the number of columns are equal to the output nodes. We define a tensor $\\mathbf{W}$ of shape = (7,2), where the number of visible neurons = 7, and the number of hidden neurons = 2. \n"
   ]
  },
  {
   "cell_type": "code",
   "execution_count": 5,
   "metadata": {},
   "outputs": [],
   "source": [
    "W = tf.constant(np.random.normal(loc=0.0, scale=1.0, size=(7, 2)).astype(np.float32))"
   ]
  },
  {
   "cell_type": "markdown",
   "metadata": {},
   "source": [
    "<hr>\n"
   ]
  },
  {
   "cell_type": "markdown",
   "metadata": {},
   "source": [
    "<a id=\"ref3\"></a>\n",
    "\n",
    "<h3>What RBM can do after training?</h3>\n",
    "Think of RBM as a model that has been trained based on images of a dataset of many SUV and sedan cars. Also, imagine that the RBM network has only two hidden nodes, where one node encodes the weight and, and the other encodes the size.  \n",
    "In a sense, the different configurations represent different cars, where one is an SUV and the other is Sedan.  In a training process, through many forward and backward passes, the RBM adjust its weights to send a stronger signal to either the SUV node (0, 1) or the sedan node (1, 0) in the hidden layer, given the pixels of images. Now, given an SUV in hidden layer, which distribution of pixels should we expect? RBM can give you 2 things. First, it encodes your images in hidden layer. Second, it gives you the probability of observing a case, given some hidden values.\n",
    "\n",
    "<h3>The Inference Process</h3>\n",
    "\n",
    "RBM has two phases:\n",
    "\n",
    "<ul>\n",
    "    <li>Forward Pass</li>  \n",
    "    <li>Backward Pass or Reconstruction</li>\n",
    "</ul>\n",
    "\n",
    "<b>Phase 1) Forward pass:</b>  \n",
    "\n",
    "Input one training sample (one image) $\\mathbf{x}$ through all visible nodes, and pass it to all hidden nodes. Processing happens in each node in the hidden layer. This computation begins by making stochastic decisions about whether to transmit that input or not (i.e. to determine the state of each hidden layer).  First, the probability vector is computed using the input feature vector $\\mathbf{x}$, the weight matrix $\\mathbf{W}$, and the bias term $h_{bias}$, as \n",
    "\n",
    "$p({h_j}|\\mathbf x)= \\sigma(\\sum_{i=1}^V W_{ij} x_i + h_{bias} )$, \n",
    "\n",
    "where $\\sigma(z) = (1+e^{-z})^{-1}$ is the logistic function.\n",
    "\n",
    "So, what does $p({h_j})$ represent? It is the <b>probability distribution</b> of the hidden units. That is, RBM uses inputs $x_i$ to make predictions about hidden node activations. For example, imagine that the hidden node activation values are [0.51 0.84] for the first training item. It tells you that the conditional probability for each hidden neuron for Phase 1 is: \n",
    "\n",
    "$$p(h_{1} = 1|\\mathbf{v}) = 0.51$$\n",
    "$$p(h_{2} = 1|\\mathbf{v}) = 0.84$$\n",
    "\n",
    "As a result, for each row in the training set, vector of probabilities is generated.  In TensorFlow, this is referred to as a `tensor` with a shape of (1,2). \n",
    "\n",
    "We then turn unit $j$ with probability $p(h_{j}|\\mathbf{v})$, and turn it off with probability $1 - p(h_{j}|\\mathbf{v})$ by generating a uniform random number vector $\\mathbf{\\xi}$, and comparing it to the activation probability as \n",
    "\n",
    "<center>If $\\xi_j>p(h_{j}|\\mathbf{v})$, then $h_j=1$, else $h_j=0$.</center>\n",
    "\n",
    "Therefore, the conditional probability of a configuration of $\\mathbf{h}$ given $\\mathbf{v}$ (for a training sample) is:\n",
    "\n",
    "$$p(\\mathbf{h} \\mid \\mathbf{v}) = \\prod_{j=1}^H p(h_j \\mid \\mathbf{v})$$\n",
    "\n",
    "where $H$ is the number of hidden units.\n"
   ]
  },
  {
   "cell_type": "markdown",
   "metadata": {},
   "source": [
    "Before we go further, let's look at a toy example for one case out of all input. Assume that we have a trained RBM, and a very simple input vector, such as [1.0, 0.0, 0.0, 1.0, 0.0, 0.0, 0.0].  \n",
    "Let's see what the output of forward pass would look like:\n"
   ]
  },
  {
   "cell_type": "code",
   "execution_count": 6,
   "metadata": {},
   "outputs": [
    {
     "name": "stdout",
     "output_type": "stream",
     "text": [
      "Input:  tf.Tensor([[1. 0. 0. 1. 0. 0. 0.]], shape=(1, 7), dtype=float32)\n",
      "hb:  tf.Tensor([0.1 0.1], shape=(2,), dtype=float32)\n",
      "w:  tf.Tensor(\n",
      "[[-0.02791825 -0.60291696]\n",
      " [ 2.4520066  -0.02780334]\n",
      " [-0.52589387  0.88937455]\n",
      " [-0.41464943  0.6055252 ]\n",
      " [ 0.35765654 -0.12284791]\n",
      " [-0.26432997  0.5431385 ]\n",
      " [ 0.6981275   0.23101263]], shape=(7, 2), dtype=float32)\n",
      "p(h|v):  tf.Tensor([[0.4151859 0.5256296]], shape=(1, 2), dtype=float32)\n",
      "h0 states: tf.Tensor([[1. 0.]], shape=(1, 2), dtype=float32)\n"
     ]
    }
   ],
   "source": [
    "X = tf.constant([[1.0, 0.0, 0.0, 1.0, 0.0, 0.0, 0.0]], tf.float32)\n",
    "\n",
    "v_state = X\n",
    "print (\"Input: \", v_state)\n",
    "\n",
    "h_bias = tf.constant([0.1, 0.1])\n",
    "print (\"hb: \", h_bias)\n",
    "print (\"w: \", W)\n",
    "\n",
    "# Calculate the probabilities of turning the hidden units on:\n",
    "h_prob = tf.nn.sigmoid(tf.matmul(v_state, W) + h_bias)  #probabilities of the hidden units\n",
    "print (\"p(h|v): \", h_prob)\n",
    "\n",
    "# Draw samples from the distribution:\n",
    "h_state = tf.nn.relu(tf.sign(h_prob - tf.random.uniform(tf.shape(h_prob)))) #states\n",
    "print (\"h0 states:\", h_state)"
   ]
  },
  {
   "cell_type": "markdown",
   "metadata": {},
   "source": [
    "<b>Phase 2) Backward Pass (Reconstruction):</b>\n",
    "The RBM reconstructs data by making several forward and backward passes between the visible and hidden layers.\n",
    "\n",
    "So, in the second phase (i.e. reconstruction phase), the samples from the hidden layer (i.e. $\\mathbf h$) becomes the input in the backward pass. The same weight matrix and visible layer biases are used to passed to the sigmoid function. The reproduced output is a reconstruction which is an approximation of the original input.\n"
   ]
  },
  {
   "cell_type": "code",
   "execution_count": 7,
   "metadata": {},
   "outputs": [
    {
     "name": "stdout",
     "output_type": "stream",
     "text": [
      "b:  tf.Tensor([0.1 0.2 0.1 0.1 0.1 0.2 0.1], shape=(7,), dtype=float32)\n",
      "p(vi∣h):  tf.Tensor(\n",
      "[[0.51801264 0.93413454 0.39510727 0.4219803  0.6124581  0.48392305\n",
      "  0.68957376]], shape=(1, 7), dtype=float32)\n",
      "v probability states:  tf.Tensor([[0. 1. 1. 1. 1. 0. 0.]], shape=(1, 7), dtype=float32)\n"
     ]
    }
   ],
   "source": [
    "vb = tf.constant([0.1, 0.2, 0.1, 0.1, 0.1, 0.2, 0.1])\n",
    "print (\"b: \", vb)\n",
    "v_prob = tf.nn.sigmoid(tf.matmul(h_state, tf.transpose(W)) + vb)\n",
    "print (\"p(vi∣h): \", v_prob)\n",
    "v_state = tf.nn.relu(tf.sign(v_prob - tf.random.uniform(tf.shape(v_prob))))\n",
    "print (\"v probability states: \", v_state)"
   ]
  },
  {
   "cell_type": "markdown",
   "metadata": {},
   "source": [
    "RBM learns a probability distribution over the input, and then, after being trained, the RBM can generate new samples from the learned probability distribution. As you know, <b>probability distribution</b>, is a mathematical function that provides the probabilities of occurrence of different possible outcomes in an experiment.\n",
    "\n",
    "The (conditional) probability distribution over the visible units v is given by\n",
    "\n",
    "$p(\\mathbf{v} \\mid \\mathbf{h}) = \\prod_{i=1}^V p(v_i \\mid \\mathbf{h}),$\n",
    "\n",
    "where,\n",
    "\n",
    "$p(v_i \\mid \\mathbf{h}) = \\sigma\\left(\\sum_{j=1}^H W_{ji} h_j + v_{bias} \\right)$\n",
    "\n",
    "so, given current state of hidden units and weights, what is the probability of generating [1. 0. 0. 1. 0. 0. 0.] in reconstruction phase, based on the above <b>probability distribution</b> function?\n"
   ]
  },
  {
   "cell_type": "code",
   "execution_count": 8,
   "metadata": {},
   "outputs": [
    {
     "name": "stdout",
     "output_type": "stream",
     "text": [
      "input X: [[1. 0. 0. 1. 0. 0. 0.]]\n",
      "probablity vector: [0.51801264 0.93413454 0.39510727 0.4219803  0.6124581  0.48392305\n",
      " 0.68957376]\n",
      "probability of generating X:  0.00054070464\n"
     ]
    }
   ],
   "source": [
    "inp = X\n",
    "print(\"input X:\" , inp.numpy())\n",
    "\n",
    "print(\"probablity vector:\" , v_prob[0].numpy())\n",
    "v_probability = 1\n",
    "\n",
    "for elm, p in zip(inp[0],v_prob[0]) :\n",
    "    if elm ==1:\n",
    "        v_probability *= p\n",
    "    else:\n",
    "        v_probability *= (1-p)\n",
    "\n",
    "print(\"probability of generating X: \" , v_probability.numpy())"
   ]
  },
  {
   "cell_type": "markdown",
   "metadata": {},
   "source": [
    "How similar are vectors $\\mathbf{x}$ and $\\mathbf{v}$? Of course, the reconstructed values most likely will not look anything like the input vector, because our network has not been trained yet. Our objective is to train the model in such a way that the input vector and reconstructed vector to be same. Therefore, based on how different the input values look to the ones that we just reconstructed, the weights are adjusted. \n"
   ]
  },
  {
   "cell_type": "markdown",
   "metadata": {},
   "source": [
    "<hr>\n"
   ]
  },
  {
   "cell_type": "markdown",
   "metadata": {},
   "source": [
    "<h2>MNIST</h2>\n"
   ]
  },
  {
   "cell_type": "markdown",
   "metadata": {},
   "source": [
    "We will be using the MNIST dataset to practice the usage of RBMs. The following cell loads the MNIST dataset.\n"
   ]
  },
  {
   "cell_type": "code",
   "execution_count": 9,
   "metadata": {},
   "outputs": [],
   "source": [
    "#loading training and test data\n",
    "mnist = tf.keras.datasets.mnist\n",
    "(trX, trY), (teX, teY) = mnist.load_data()\n",
    "\n",
    "# showing an example of the Flatten class and operation\n",
    "from tensorflow.keras.layers import Flatten\n",
    "flatten = Flatten(dtype='float32')\n",
    "trX = flatten(trX/255.0)\n",
    "trY = flatten(trY/255.0)"
   ]
  },
  {
   "cell_type": "markdown",
   "metadata": {},
   "source": [
    "Lets look at the dimension of the images.\n"
   ]
  },
  {
   "cell_type": "markdown",
   "metadata": {},
   "source": [
    "MNIST images have 784 pixels, so the visible layer must have 784 input nodes.  For our case, we'll use 50 nodes in the hidden layer, so i = 50.\n"
   ]
  },
  {
   "cell_type": "code",
   "execution_count": 10,
   "metadata": {
    "tags": []
   },
   "outputs": [],
   "source": [
    "vb = tf.Variable(tf.zeros([784]), tf.float32)\n",
    "hb = tf.Variable(tf.zeros([50]), tf.float32)"
   ]
  },
  {
   "cell_type": "markdown",
   "metadata": {},
   "source": [
    "Let $\\mathbf W$ be the Tensor of 784x50 (784 - number of visible neurons, 50 - number of hidden neurons) that represents weights between the neurons. \n"
   ]
  },
  {
   "cell_type": "code",
   "execution_count": 11,
   "metadata": {},
   "outputs": [],
   "source": [
    "W = tf.Variable(tf.zeros([784,50]), tf.float32)"
   ]
  },
  {
   "cell_type": "markdown",
   "metadata": {},
   "source": [
    "Lets define the visible layer:\n"
   ]
  },
  {
   "cell_type": "code",
   "execution_count": 12,
   "metadata": {},
   "outputs": [
    {
     "data": {
      "text/plain": [
       "<tf.Tensor: shape=(1, 50), dtype=float32, numpy=\n",
       "array([[0., 0., 0., 0., 0., 0., 0., 0., 0., 0., 0., 0., 0., 0., 0., 0.,\n",
       "        0., 0., 0., 0., 0., 0., 0., 0., 0., 0., 0., 0., 0., 0., 0., 0.,\n",
       "        0., 0., 0., 0., 0., 0., 0., 0., 0., 0., 0., 0., 0., 0., 0., 0.,\n",
       "        0., 0.]], dtype=float32)>"
      ]
     },
     "execution_count": 12,
     "metadata": {},
     "output_type": "execute_result"
    }
   ],
   "source": [
    "v0_state = tf.Variable(tf.zeros([784]), tf.float32)\n",
    "\n",
    "#testing to see if the matrix product works\n",
    "tf.matmul( [v0_state], W)"
   ]
  },
  {
   "cell_type": "markdown",
   "metadata": {},
   "source": [
    "Now, we can define hidden layer:\n"
   ]
  },
  {
   "cell_type": "code",
   "execution_count": 13,
   "metadata": {},
   "outputs": [
    {
     "name": "stdout",
     "output_type": "stream",
     "text": [
      "h0_state shape:  tf.Tensor([ 1 50], shape=(2,), dtype=int32)\n",
      "first 15 hidden states:  tf.Tensor([1. 1. 0. 0. 1. 1. 0. 1. 0. 1. 0. 0. 1. 1. 1.], shape=(15,), dtype=float32)\n"
     ]
    }
   ],
   "source": [
    "#computing the hidden nodes probability vector and checking shape\n",
    "h0_prob = tf.nn.sigmoid(tf.matmul([v0_state], W) + hb)  #probabilities of the hidden units\n",
    "print(\"h0_state shape: \" , tf.shape(h0_prob))\n",
    "\n",
    "#defining a function to return only the generated hidden states \n",
    "def hidden_layer(v0_state, W, hb):\n",
    "    h0_prob = tf.nn.sigmoid(tf.matmul([v0_state], W) + hb)  #probabilities of the hidden units\n",
    "    h0_state = tf.nn.relu(tf.sign(h0_prob - tf.random.uniform(tf.shape(h0_prob)))) #sample_h_given_X\n",
    "    return h0_state\n",
    "\n",
    "\n",
    "h0_state = hidden_layer(v0_state, W, hb)\n",
    "print(\"first 15 hidden states: \", h0_state[0][0:15])"
   ]
  },
  {
   "cell_type": "markdown",
   "metadata": {},
   "source": [
    "Now, we define reconstruction part:\n"
   ]
  },
  {
   "cell_type": "code",
   "execution_count": 14,
   "metadata": {},
   "outputs": [
    {
     "name": "stdout",
     "output_type": "stream",
     "text": [
      "hidden state shape:  (1, 50)\n",
      "v0 state shape:   (784,)\n",
      "v1 state shape:   (784,)\n"
     ]
    }
   ],
   "source": [
    "def reconstructed_output(h0_state, W, vb):\n",
    "    v1_prob = tf.nn.sigmoid(tf.matmul(h0_state, tf.transpose(W)) + vb) \n",
    "    v1_state = tf.nn.relu(tf.sign(v1_prob - tf.random.uniform(tf.shape(v1_prob)))) #sample_v_given_h\n",
    "    return v1_state[0]\n",
    "\n",
    "v1_state = reconstructed_output(h0_state, W, vb)\n",
    "print(\"hidden state shape: \", h0_state.shape)\n",
    "print(\"v0 state shape:  \", v0_state.shape)\n",
    "print(\"v1 state shape:  \", v1_state.shape)"
   ]
  },
  {
   "cell_type": "markdown",
   "metadata": {},
   "source": [
    "<h3>What is the objective function?</h3>\n",
    "\n",
    "<b>Goal</b>: Maximize the likelihood of our data being drawn from that distribution\n",
    "\n",
    "<b>Calculate error:</b>  \n",
    "In each epoch, we compute the \"error\" as a sum of the squared difference between step 1 and step n,\n",
    "e.g the error shows the difference between the data and its reconstruction.\n",
    "\n",
    "<b>Note:</b> tf.reduce_mean computes the mean of elements across dimensions of a tensor.\n"
   ]
  },
  {
   "cell_type": "code",
   "execution_count": 15,
   "metadata": {},
   "outputs": [
    {
     "name": "stdout",
     "output_type": "stream",
     "text": [
      "error 0.4987245\n"
     ]
    }
   ],
   "source": [
    "def error(v0_state, v1_state):\n",
    "    return tf.reduce_mean(tf.square(v0_state - v1_state))\n",
    "\n",
    "err = tf.reduce_mean(tf.square(v0_state - v1_state))\n",
    "print(\"error\" , err.numpy())"
   ]
  },
  {
   "cell_type": "markdown",
   "metadata": {},
   "source": [
    "<a id=\"ref4\"></a>\n",
    "\n",
    "<h3>Training the Model</h3>\n",
    "<b>Warning...</b> The following part is math-heavy, but you can skip it if you just want to run the cells in the next section.\n",
    "\n",
    "As mentioned, we want to give a high probability to the input data we train on. So, in order to train an RBM, we have to maximize the product of probabilities assigned to all rows $\\mathbf{v}$ (images) in the training set $\\mathbf{V}$ (a matrix, where each row of it is treated as a visible vector $\\mathbf{v}$)\n",
    "\n",
    "$$\\arg\\max_W\\prod_{\\mathbf{v}\\in\\mathbf{V}_T}p(\\mathbf{v}),$$\n",
    "\n",
    "which is equivalent to maximizing the expectation of the log probability, given as\n",
    "\n",
    "$$\\arg\\max_W\\left[ \\mathbb{E} \\left(\\prod_{\\mathbf v\\in \\mathbf V}\\text{log} \\left(p(\\mathbf v)\\right) \\right) \\right].$$\n",
    "\n",
    "So, we have to update the weights $W_{ij}$  to increase $p(\\mathbf{v})$ for all $\\mathbf{v}$ in our training data during training. So we have to calculate the derivative:\n",
    "\n",
    "$$\\frac{\\partial \\log p(\\mathbf v)}{\\partial W_{ij}}$$\n",
    "\n",
    "This cannot be easily done by typical <b>gradient descent (SGD)</b>, so we can use another approach, which has 2 steps:\n",
    "\n",
    "<ol>\n",
    "    <li>Gibbs Sampling</li>\n",
    "    <li>Contrastive Divergence</li>\n",
    "</ol>    \n",
    "    \n",
    "<h3>Gibbs Sampling</h3>   \n",
    "\n",
    "<h4>Gibbs Sampling Step 1</h4> \n",
    "Given an input vector $\\mathbf{v}$, we are using $p(\\mathbf{h}|\\mathbf{v})$ to predict the hidden values $\\mathbf{h}$. \n",
    "  $$p({h_j}|\\mathbf v)= \\sigma\\left(\\sum_{i=1}^V W_{ij} v_i + h_{bias} \\right)$$\n",
    "The samples are generated from this distribution by generating the uniform random variate vector $\\mathbf{\\xi} \\sim U[0,1]$ of length $H$ and comparing to the computed probabilities as\n",
    "\n",
    "<center>If $\\xi_j>p(h_{j}|\\mathbf{v})$, then $h_j=1$, else $h_j=0$.</center>\n",
    "\n",
    "<h4>Gibbs Sampling Step 2</h4> \n",
    "Then, knowing the hidden values, we use $p(\\mathbf v| \\mathbf h)$ for reconstructing of new input values v. \n",
    "\n",
    "   $$p({v_i}|\\mathbf h)= \\sigma\\left(\\sum_{j=1}^H W^{T}_{ij} h_j + v_{bias} \\right)$$\n",
    "\n",
    "The samples are generated from this distribution by generating a uniform random variate vector $\\mathbf{\\xi} \\sim U[0,1]$ of length $V$ and comparing to the computed probabilities as\n",
    "\n",
    "<center>If $\\xi_i>p(v_{i}|\\mathbf{h})$, then $v_i=1$, else $v_i=0$.</center>\n",
    "\n",
    "Let vectors $\\mathbf v_k$ and $\\mathbf h_k$ be for the $k$th iteration.  In general, the $kth$ state is generrated as: \n",
    "\n",
    "<b>Iteration</b> $k$: \n",
    "\n",
    "$$\\mathbf v_{k-1} \\Rightarrow p(\\mathbf h_{k-1}|\\mathbf v_{k-1})\\Rightarrow \\mathbf h_{k-1}\\Rightarrow p(\\mathbf v_{k}|\\mathbf h_{k-1})\\Rightarrow \\mathbf v_k$$       \n",
    "\n",
    "<h3>Contrastive Divergence (CD-k)</h3>\n",
    "The update of the weight matrix is done during the Contrastive Divergence step. \n",
    "\n",
    "Vectors v0 and vk are used to calculate the activation probabilities for hidden values h0 and hk. The difference between the outer products of those probabilities with input vectors v0 and vk results in the update matrix:\n",
    "\n",
    "$\\Delta \\mathbf W_k =\\mathbf v_k \\otimes \\mathbf h_k - \\mathbf v_{k-1} \\otimes \\mathbf h_{k-1}$ \n",
    "\n",
    "Contrastive Divergence is actually matrix of values that is computed and used to adjust values of the $\\mathbf W$ matrix. Changing $\\mathbf W$ incrementally leads to training of the  $\\mathbf W$ values. Then, on each step (epoch), $\\mathbf W$ is updated using the following:\n",
    "\n",
    "$\\mathbf W_k = \\mathbf W_{k-1} + \\alpha * \\Delta \\mathbf W_k$ \n",
    "\n",
    "Reconstruction steps:\n",
    "\n",
    "<ul>\n",
    "    <li> Get one data point from data set, like <i>x</i>, and pass it through the following steps:</li>\n",
    "    \n",
    "<b>Iteration</b> $k=1$: \n",
    "    \n",
    "Sampling (starting with input image)\n",
    "    $$\\mathbf x = \\mathbf v_0 \\Rightarrow p(\\mathbf h_0|\\mathbf v_0)\\Rightarrow \\mathbf h_0 \\Rightarrow p(\\mathbf v_1|\\mathbf h_0)\\Rightarrow \\mathbf v_1$$   \n",
    "    followed by the CD-k step\n",
    "$$\\Delta \\mathbf W_1 =\\mathbf v_1 \\otimes \\mathbf h_1 - \\mathbf v_{0} \\otimes \\mathbf h_{0}$$     \n",
    "$$\\mathbf W_1 = \\mathbf W_{0} + \\alpha * \\Delta \\mathbf W_1$$ \n",
    " \n",
    "<li> $\\mathbf v_1$ is the reconstruction of $\\mathbf x$ sent to the next iteration).</li>\n",
    "\n",
    "<b>Iteration</b> $k=2$: \n",
    "\n",
    "Sampling (starting with $\\mathbf v_1$)\n",
    "\n",
    "$$\\mathbf v_1 \\Rightarrow p(\\mathbf h_1|\\mathbf v_1)\\Rightarrow \\mathbf h_1\\Rightarrow p(\\mathbf v_2|\\mathbf h_1)\\Rightarrow \\mathbf v_2$$   \n",
    "\n",
    "followed by the CD-k step\n",
    "$$\\Delta \\mathbf W_2 =\\mathbf v_2 \\otimes \\mathbf h_2 - \\mathbf v_{1} \\otimes \\mathbf h_{1}$$  \n",
    "$$\\mathbf W_2 = \\mathbf W_{1} + \\alpha * \\Delta \\mathbf W_2$$ \n",
    "\n",
    "<li> $\\mathbf v_2$ is the reconstruction of $\\mathbf v_1$ sent to the next iteration).</li>    \n",
    "      \n",
    "<b>Iteration</b> $k=K$:\n",
    "    \n",
    "Sampling (starting with $\\mathbf v_{K-1}$)\n",
    "\n",
    "$$\\mathbf v_{K-1} \\Rightarrow p(\\mathbf h_{K-1}|\\mathbf v_{K-1})\\Rightarrow \\mathbf h_{K-1}\\Rightarrow p(\\mathbf v_K|\\mathbf h_{K-1})\\Rightarrow \\mathbf v_K$$   \n",
    "\n",
    "followed by the CD-k step\n",
    "$$\\Delta \\mathbf W_K =\\mathbf v_K \\otimes \\mathbf h_K - \\mathbf v_{K-1} \\otimes \\mathbf h_{K-1}$$  \n",
    "$$\\mathbf W_K = \\mathbf W_{K-1} + \\alpha * \\Delta \\mathbf W_K$$ \n",
    "\n",
    "<b>What is $\\alpha$?</b>  \n",
    "Here, alpha is some small step size, and is also known as the \"learning rate\".\n"
   ]
  },
  {
   "cell_type": "markdown",
   "metadata": {},
   "source": [
    "$K$ is adjustable, and good performance can be achieved with $K=1$, so that we just take one set of sampling steps per image.\n"
   ]
  },
  {
   "cell_type": "code",
   "execution_count": 16,
   "metadata": {},
   "outputs": [],
   "source": [
    "h1_prob = tf.nn.sigmoid(tf.matmul([v1_state], W) + hb)\n",
    "h1_state = tf.nn.relu(tf.sign(h1_prob - tf.random.uniform(tf.shape(h1_prob)))) #sample_h_given_X"
   ]
  },
  {
   "cell_type": "markdown",
   "metadata": {},
   "source": [
    "Lets look at the error of the first run:\n"
   ]
  },
  {
   "cell_type": "code",
   "execution_count": 17,
   "metadata": {},
   "outputs": [
    {
     "name": "stdout",
     "output_type": "stream",
     "text": [
      "error:  tf.Tensor(0.4987245, shape=(), dtype=float32)\n"
     ]
    }
   ],
   "source": [
    "print(\"error: \", error(v0_state, v1_state))"
   ]
  },
  {
   "cell_type": "code",
   "execution_count": 18,
   "metadata": {},
   "outputs": [
    {
     "name": "stdout",
     "output_type": "stream",
     "text": [
      "Epoch: 0 batch #: 1  of 300 sample #: 199 reconstruction error: 0.162723\n",
      "Epoch: 0 batch #: 2  of 300 sample #: 199 reconstruction error: 0.217900\n",
      "Epoch: 0 batch #: 3  of 300 sample #: 199 reconstruction error: 0.121965\n",
      "Epoch: 0 batch #: 4  of 300 sample #: 199 reconstruction error: 0.127427\n",
      "Epoch: 0 batch #: 5  of 300 sample #: 199 reconstruction error: 0.103059\n",
      "Epoch: 0 batch #: 6  of 300 sample #: 199 reconstruction error: 0.211489\n",
      "Epoch: 0 batch #: 7  of 300 sample #: 199 reconstruction error: 0.106111\n",
      "Epoch: 0 batch #: 8  of 300 sample #: 199 reconstruction error: 0.109840\n",
      "Epoch: 0 batch #: 9  of 300 sample #: 199 reconstruction error: 0.105935\n",
      "Epoch: 0 batch #: 10  of 300 sample #: 199 reconstruction error: 0.180298\n",
      "Epoch: 0 batch #: 11  of 300 sample #: 199 reconstruction error: 0.089365\n",
      "Epoch: 0 batch #: 12  of 300 sample #: 199 reconstruction error: 0.147935\n",
      "Epoch: 0 batch #: 13  of 300 sample #: 199 reconstruction error: 0.062583\n",
      "Epoch: 0 batch #: 14  of 300 sample #: 199 reconstruction error: 0.101297\n",
      "Epoch: 0 batch #: 15  of 300 sample #: 199 reconstruction error: 0.111620\n",
      "Epoch: 0 batch #: 16  of 300 sample #: 199 reconstruction error: 0.104241\n",
      "Epoch: 0 batch #: 17  of 300 sample #: 199 reconstruction error: 0.073027\n",
      "Epoch: 0 batch #: 18  of 300 sample #: 199 reconstruction error: 0.117949\n",
      "Epoch: 0 batch #: 19  of 300 sample #: 199 reconstruction error: 0.129932\n",
      "Epoch: 0 batch #: 20  of 300 sample #: 199 reconstruction error: 0.123315\n",
      "Epoch: 0 batch #: 21  of 300 sample #: 199 reconstruction error: 0.087368\n",
      "Epoch: 0 batch #: 22  of 300 sample #: 199 reconstruction error: 0.082771\n",
      "Epoch: 0 batch #: 23  of 300 sample #: 199 reconstruction error: 0.091017\n",
      "Epoch: 0 batch #: 24  of 300 sample #: 199 reconstruction error: 0.133283\n",
      "Epoch: 0 batch #: 25  of 300 sample #: 199 reconstruction error: 0.094487\n",
      "Epoch: 0 batch #: 26  of 300 sample #: 199 reconstruction error: 0.099337\n",
      "Epoch: 0 batch #: 27  of 300 sample #: 199 reconstruction error: 0.115006\n",
      "Epoch: 0 batch #: 28  of 300 sample #: 199 reconstruction error: 0.105804\n",
      "Epoch: 0 batch #: 29  of 300 sample #: 199 reconstruction error: 0.102877\n",
      "Epoch: 0 batch #: 30  of 300 sample #: 199 reconstruction error: 0.073327\n",
      "Epoch: 0 batch #: 31  of 300 sample #: 199 reconstruction error: 0.089198\n",
      "Epoch: 0 batch #: 32  of 300 sample #: 199 reconstruction error: 0.111071\n",
      "Epoch: 0 batch #: 33  of 300 sample #: 199 reconstruction error: 0.057052\n",
      "Epoch: 0 batch #: 34  of 300 sample #: 199 reconstruction error: 0.073585\n",
      "Epoch: 0 batch #: 35  of 300 sample #: 199 reconstruction error: 0.077436\n",
      "Epoch: 0 batch #: 36  of 300 sample #: 199 reconstruction error: 0.078676\n",
      "Epoch: 0 batch #: 37  of 300 sample #: 199 reconstruction error: 0.066660\n",
      "Epoch: 0 batch #: 38  of 300 sample #: 199 reconstruction error: 0.066301\n",
      "Epoch: 0 batch #: 39  of 300 sample #: 199 reconstruction error: 0.106238\n",
      "Epoch: 0 batch #: 40  of 300 sample #: 199 reconstruction error: 0.122893\n",
      "Epoch: 0 batch #: 41  of 300 sample #: 199 reconstruction error: 0.074246\n",
      "Epoch: 0 batch #: 42  of 300 sample #: 199 reconstruction error: 0.063429\n",
      "Epoch: 0 batch #: 43  of 300 sample #: 199 reconstruction error: 0.111858\n",
      "Epoch: 0 batch #: 44  of 300 sample #: 199 reconstruction error: 0.069099\n",
      "Epoch: 0 batch #: 45  of 300 sample #: 199 reconstruction error: 0.051513\n",
      "Epoch: 0 batch #: 46  of 300 sample #: 199 reconstruction error: 0.039859\n",
      "Epoch: 0 batch #: 47  of 300 sample #: 199 reconstruction error: 0.038294\n",
      "Epoch: 0 batch #: 48  of 300 sample #: 199 reconstruction error: 0.041692\n",
      "Epoch: 0 batch #: 49  of 300 sample #: 199 reconstruction error: 0.136293\n",
      "Epoch: 0 batch #: 50  of 300 sample #: 199 reconstruction error: 0.052714\n",
      "Epoch: 0 batch #: 51  of 300 sample #: 199 reconstruction error: 0.059069\n",
      "Epoch: 0 batch #: 52  of 300 sample #: 199 reconstruction error: 0.028242\n",
      "Epoch: 0 batch #: 53  of 300 sample #: 199 reconstruction error: 0.115776\n",
      "Epoch: 0 batch #: 54  of 300 sample #: 199 reconstruction error: 0.058132\n",
      "Epoch: 0 batch #: 55  of 300 sample #: 199 reconstruction error: 0.120129\n",
      "Epoch: 0 batch #: 56  of 300 sample #: 199 reconstruction error: 0.057746\n",
      "Epoch: 0 batch #: 57  of 300 sample #: 199 reconstruction error: 0.042467\n",
      "Epoch: 0 batch #: 58  of 300 sample #: 199 reconstruction error: 0.060977\n",
      "Epoch: 0 batch #: 59  of 300 sample #: 199 reconstruction error: 0.063684\n",
      "Epoch: 0 batch #: 60  of 300 sample #: 199 reconstruction error: 0.090563\n",
      "Epoch: 0 batch #: 61  of 300 sample #: 199 reconstruction error: 0.076050\n",
      "Epoch: 0 batch #: 62  of 300 sample #: 199 reconstruction error: 0.071910\n",
      "Epoch: 0 batch #: 63  of 300 sample #: 199 reconstruction error: 0.057207\n",
      "Epoch: 0 batch #: 64  of 300 sample #: 199 reconstruction error: 0.087248\n",
      "Epoch: 0 batch #: 65  of 300 sample #: 199 reconstruction error: 0.084609\n",
      "Epoch: 0 batch #: 66  of 300 sample #: 199 reconstruction error: 0.069334\n",
      "Epoch: 0 batch #: 67  of 300 sample #: 199 reconstruction error: 0.058643\n",
      "Epoch: 0 batch #: 68  of 300 sample #: 199 reconstruction error: 0.064139\n",
      "Epoch: 0 batch #: 69  of 300 sample #: 199 reconstruction error: 0.077890\n",
      "Epoch: 0 batch #: 70  of 300 sample #: 199 reconstruction error: 0.081132\n",
      "Epoch: 0 batch #: 71  of 300 sample #: 199 reconstruction error: 0.088175\n",
      "Epoch: 0 batch #: 72  of 300 sample #: 199 reconstruction error: 0.071839\n",
      "Epoch: 0 batch #: 73  of 300 sample #: 199 reconstruction error: 0.079486\n",
      "Epoch: 0 batch #: 74  of 300 sample #: 199 reconstruction error: 0.118064\n",
      "Epoch: 0 batch #: 75  of 300 sample #: 199 reconstruction error: 0.064199\n",
      "Epoch: 0 batch #: 76  of 300 sample #: 199 reconstruction error: 0.085004\n",
      "Epoch: 0 batch #: 77  of 300 sample #: 199 reconstruction error: 0.127324\n",
      "Epoch: 0 batch #: 78  of 300 sample #: 199 reconstruction error: 0.086147\n",
      "Epoch: 0 batch #: 79  of 300 sample #: 199 reconstruction error: 0.124108\n",
      "Epoch: 0 batch #: 80  of 300 sample #: 199 reconstruction error: 0.033562\n",
      "Epoch: 0 batch #: 81  of 300 sample #: 199 reconstruction error: 0.059243\n",
      "Epoch: 0 batch #: 82  of 300 sample #: 199 reconstruction error: 0.042111\n",
      "Epoch: 0 batch #: 83  of 300 sample #: 199 reconstruction error: 0.079311\n",
      "Epoch: 0 batch #: 84  of 300 sample #: 199 reconstruction error: 0.092279\n",
      "Epoch: 0 batch #: 85  of 300 sample #: 199 reconstruction error: 0.056052\n",
      "Epoch: 0 batch #: 86  of 300 sample #: 199 reconstruction error: 0.087184\n",
      "Epoch: 0 batch #: 87  of 300 sample #: 199 reconstruction error: 0.085970\n",
      "Epoch: 0 batch #: 88  of 300 sample #: 199 reconstruction error: 0.032288\n",
      "Epoch: 0 batch #: 89  of 300 sample #: 199 reconstruction error: 0.051345\n",
      "Epoch: 0 batch #: 90  of 300 sample #: 199 reconstruction error: 0.066056\n",
      "Epoch: 0 batch #: 91  of 300 sample #: 199 reconstruction error: 0.060666\n",
      "Epoch: 0 batch #: 92  of 300 sample #: 199 reconstruction error: 0.078629\n",
      "Epoch: 0 batch #: 93  of 300 sample #: 199 reconstruction error: 0.120099\n",
      "Epoch: 0 batch #: 94  of 300 sample #: 199 reconstruction error: 0.105872\n",
      "Epoch: 0 batch #: 95  of 300 sample #: 199 reconstruction error: 0.080191\n",
      "Epoch: 0 batch #: 96  of 300 sample #: 199 reconstruction error: 0.054105\n",
      "Epoch: 0 batch #: 97  of 300 sample #: 199 reconstruction error: 0.116825\n",
      "Epoch: 0 batch #: 98  of 300 sample #: 199 reconstruction error: 0.092165\n",
      "Epoch: 0 batch #: 99  of 300 sample #: 199 reconstruction error: 0.066769\n",
      "Epoch: 0 batch #: 100  of 300 sample #: 199 reconstruction error: 0.103541\n",
      "Epoch: 0 batch #: 101  of 300 sample #: 199 reconstruction error: 0.065299\n",
      "Epoch: 0 batch #: 102  of 300 sample #: 199 reconstruction error: 0.085008\n",
      "Epoch: 0 batch #: 103  of 300 sample #: 199 reconstruction error: 0.089069\n",
      "Epoch: 0 batch #: 104  of 300 sample #: 199 reconstruction error: 0.066316\n",
      "Epoch: 0 batch #: 105  of 300 sample #: 199 reconstruction error: 0.066969\n",
      "Epoch: 0 batch #: 106  of 300 sample #: 199 reconstruction error: 0.110844\n",
      "Epoch: 0 batch #: 107  of 300 sample #: 199 reconstruction error: 0.126703\n",
      "Epoch: 0 batch #: 108  of 300 sample #: 199 reconstruction error: 0.068602\n",
      "Epoch: 0 batch #: 109  of 300 sample #: 199 reconstruction error: 0.108609\n",
      "Epoch: 0 batch #: 110  of 300 sample #: 199 reconstruction error: 0.052164\n",
      "Epoch: 0 batch #: 111  of 300 sample #: 199 reconstruction error: 0.111596\n",
      "Epoch: 0 batch #: 112  of 300 sample #: 199 reconstruction error: 0.045678\n",
      "Epoch: 0 batch #: 113  of 300 sample #: 199 reconstruction error: 0.084268\n",
      "Epoch: 0 batch #: 114  of 300 sample #: 199 reconstruction error: 0.082057\n",
      "Epoch: 0 batch #: 115  of 300 sample #: 199 reconstruction error: 0.056304\n",
      "Epoch: 0 batch #: 116  of 300 sample #: 199 reconstruction error: 0.054427\n",
      "Epoch: 0 batch #: 117  of 300 sample #: 199 reconstruction error: 0.049320\n",
      "Epoch: 0 batch #: 118  of 300 sample #: 199 reconstruction error: 0.070624\n",
      "Epoch: 0 batch #: 119  of 300 sample #: 199 reconstruction error: 0.114224\n",
      "Epoch: 0 batch #: 120  of 300 sample #: 199 reconstruction error: 0.080203\n",
      "Epoch: 0 batch #: 121  of 300 sample #: 199 reconstruction error: 0.061685\n",
      "Epoch: 0 batch #: 122  of 300 sample #: 199 reconstruction error: 0.104314\n",
      "Epoch: 0 batch #: 123  of 300 sample #: 199 reconstruction error: 0.055414\n",
      "Epoch: 0 batch #: 124  of 300 sample #: 199 reconstruction error: 0.064730\n",
      "Epoch: 0 batch #: 125  of 300 sample #: 199 reconstruction error: 0.035277\n",
      "Epoch: 0 batch #: 126  of 300 sample #: 199 reconstruction error: 0.079585\n",
      "Epoch: 0 batch #: 127  of 300 sample #: 199 reconstruction error: 0.082427\n",
      "Epoch: 0 batch #: 128  of 300 sample #: 199 reconstruction error: 0.076355\n",
      "Epoch: 0 batch #: 129  of 300 sample #: 199 reconstruction error: 0.058103\n",
      "Epoch: 0 batch #: 130  of 300 sample #: 199 reconstruction error: 0.072418\n",
      "Epoch: 0 batch #: 131  of 300 sample #: 199 reconstruction error: 0.064548\n",
      "Epoch: 0 batch #: 132  of 300 sample #: 199 reconstruction error: 0.048407\n",
      "Epoch: 0 batch #: 133  of 300 sample #: 199 reconstruction error: 0.053839\n",
      "Epoch: 0 batch #: 134  of 300 sample #: 199 reconstruction error: 0.099934\n",
      "Epoch: 0 batch #: 135  of 300 sample #: 199 reconstruction error: 0.094123\n",
      "Epoch: 0 batch #: 136  of 300 sample #: 199 reconstruction error: 0.113669\n",
      "Epoch: 0 batch #: 137  of 300 sample #: 199 reconstruction error: 0.067130\n",
      "Epoch: 0 batch #: 138  of 300 sample #: 199 reconstruction error: 0.062853\n",
      "Epoch: 0 batch #: 139  of 300 sample #: 199 reconstruction error: 0.102007\n",
      "Epoch: 0 batch #: 140  of 300 sample #: 199 reconstruction error: 0.076091\n",
      "Epoch: 0 batch #: 141  of 300 sample #: 199 reconstruction error: 0.092519\n",
      "Epoch: 0 batch #: 142  of 300 sample #: 199 reconstruction error: 0.060901\n",
      "Epoch: 0 batch #: 143  of 300 sample #: 199 reconstruction error: 0.062324\n",
      "Epoch: 0 batch #: 144  of 300 sample #: 199 reconstruction error: 0.059280\n",
      "Epoch: 0 batch #: 145  of 300 sample #: 199 reconstruction error: 0.090100\n",
      "Epoch: 0 batch #: 146  of 300 sample #: 199 reconstruction error: 0.103875\n",
      "Epoch: 0 batch #: 147  of 300 sample #: 199 reconstruction error: 0.065218\n",
      "Epoch: 0 batch #: 148  of 300 sample #: 199 reconstruction error: 0.079046\n",
      "Epoch: 0 batch #: 149  of 300 sample #: 199 reconstruction error: 0.050580\n",
      "Epoch: 0 batch #: 150  of 300 sample #: 199 reconstruction error: 0.040989\n",
      "Epoch: 0 batch #: 151  of 300 sample #: 199 reconstruction error: 0.120067\n",
      "Epoch: 0 batch #: 152  of 300 sample #: 199 reconstruction error: 0.078012\n",
      "Epoch: 0 batch #: 153  of 300 sample #: 199 reconstruction error: 0.058156\n",
      "Epoch: 0 batch #: 154  of 300 sample #: 199 reconstruction error: 0.075508\n",
      "Epoch: 0 batch #: 155  of 300 sample #: 199 reconstruction error: 0.058021\n",
      "Epoch: 0 batch #: 156  of 300 sample #: 199 reconstruction error: 0.066473\n",
      "Epoch: 0 batch #: 157  of 300 sample #: 199 reconstruction error: 0.081699\n",
      "Epoch: 0 batch #: 158  of 300 sample #: 199 reconstruction error: 0.066403\n",
      "Epoch: 0 batch #: 159  of 300 sample #: 199 reconstruction error: 0.070606\n",
      "Epoch: 0 batch #: 160  of 300 sample #: 199 reconstruction error: 0.071909\n",
      "Epoch: 0 batch #: 161  of 300 sample #: 199 reconstruction error: 0.098856\n",
      "Epoch: 0 batch #: 162  of 300 sample #: 199 reconstruction error: 0.120311\n",
      "Epoch: 0 batch #: 163  of 300 sample #: 199 reconstruction error: 0.044409\n",
      "Epoch: 0 batch #: 164  of 300 sample #: 199 reconstruction error: 0.070707\n",
      "Epoch: 0 batch #: 165  of 300 sample #: 199 reconstruction error: 0.086057\n",
      "Epoch: 0 batch #: 166  of 300 sample #: 199 reconstruction error: 0.065938\n",
      "Epoch: 0 batch #: 167  of 300 sample #: 199 reconstruction error: 0.113000\n",
      "Epoch: 0 batch #: 168  of 300 sample #: 199 reconstruction error: 0.040778\n",
      "Epoch: 0 batch #: 169  of 300 sample #: 199 reconstruction error: 0.043329\n",
      "Epoch: 0 batch #: 170  of 300 sample #: 199 reconstruction error: 0.058813\n",
      "Epoch: 0 batch #: 171  of 300 sample #: 199 reconstruction error: 0.030381\n",
      "Epoch: 0 batch #: 172  of 300 sample #: 199 reconstruction error: 0.055299\n",
      "Epoch: 0 batch #: 173  of 300 sample #: 199 reconstruction error: 0.078696\n",
      "Epoch: 0 batch #: 174  of 300 sample #: 199 reconstruction error: 0.125030\n",
      "Epoch: 0 batch #: 175  of 300 sample #: 199 reconstruction error: 0.069237\n",
      "Epoch: 0 batch #: 176  of 300 sample #: 199 reconstruction error: 0.045861\n",
      "Epoch: 0 batch #: 177  of 300 sample #: 199 reconstruction error: 0.035877\n",
      "Epoch: 0 batch #: 178  of 300 sample #: 199 reconstruction error: 0.106326\n",
      "Epoch: 0 batch #: 179  of 300 sample #: 199 reconstruction error: 0.068252\n",
      "Epoch: 0 batch #: 180  of 300 sample #: 199 reconstruction error: 0.081075\n",
      "Epoch: 0 batch #: 181  of 300 sample #: 199 reconstruction error: 0.103081\n",
      "Epoch: 0 batch #: 182  of 300 sample #: 199 reconstruction error: 0.075906\n",
      "Epoch: 0 batch #: 183  of 300 sample #: 199 reconstruction error: 0.098510\n",
      "Epoch: 0 batch #: 184  of 300 sample #: 199 reconstruction error: 0.075158\n",
      "Epoch: 0 batch #: 185  of 300 sample #: 199 reconstruction error: 0.069112\n",
      "Epoch: 0 batch #: 186  of 300 sample #: 199 reconstruction error: 0.111452\n",
      "Epoch: 0 batch #: 187  of 300 sample #: 199 reconstruction error: 0.061145\n",
      "Epoch: 0 batch #: 188  of 300 sample #: 199 reconstruction error: 0.101116\n",
      "Epoch: 0 batch #: 189  of 300 sample #: 199 reconstruction error: 0.077881\n",
      "Epoch: 0 batch #: 190  of 300 sample #: 199 reconstruction error: 0.070511\n",
      "Epoch: 0 batch #: 191  of 300 sample #: 199 reconstruction error: 0.091347\n",
      "Epoch: 0 batch #: 192  of 300 sample #: 199 reconstruction error: 0.137231\n",
      "Epoch: 0 batch #: 193  of 300 sample #: 199 reconstruction error: 0.100523\n",
      "Epoch: 0 batch #: 194  of 300 sample #: 199 reconstruction error: 0.069135\n",
      "Epoch: 0 batch #: 195  of 300 sample #: 199 reconstruction error: 0.045113\n",
      "Epoch: 0 batch #: 196  of 300 sample #: 199 reconstruction error: 0.041491\n",
      "Epoch: 0 batch #: 197  of 300 sample #: 199 reconstruction error: 0.058476\n",
      "Epoch: 0 batch #: 198  of 300 sample #: 199 reconstruction error: 0.097642\n",
      "Epoch: 0 batch #: 199  of 300 sample #: 199 reconstruction error: 0.074257\n",
      "Epoch: 0 batch #: 200  of 300 sample #: 199 reconstruction error: 0.089921\n",
      "Epoch: 0 batch #: 201  of 300 sample #: 199 reconstruction error: 0.088116\n",
      "Epoch: 0 batch #: 202  of 300 sample #: 199 reconstruction error: 0.026713\n",
      "Epoch: 0 batch #: 203  of 300 sample #: 199 reconstruction error: 0.086245\n",
      "Epoch: 0 batch #: 204  of 300 sample #: 199 reconstruction error: 0.058067\n",
      "Epoch: 0 batch #: 205  of 300 sample #: 199 reconstruction error: 0.023506\n",
      "Epoch: 0 batch #: 206  of 300 sample #: 199 reconstruction error: 0.063037\n",
      "Epoch: 0 batch #: 207  of 300 sample #: 199 reconstruction error: 0.089981\n",
      "Epoch: 0 batch #: 208  of 300 sample #: 199 reconstruction error: 0.053775\n",
      "Epoch: 0 batch #: 209  of 300 sample #: 199 reconstruction error: 0.026459\n",
      "Epoch: 0 batch #: 210  of 300 sample #: 199 reconstruction error: 0.116684\n",
      "Epoch: 0 batch #: 211  of 300 sample #: 199 reconstruction error: 0.090474\n",
      "Epoch: 0 batch #: 212  of 300 sample #: 199 reconstruction error: 0.084282\n",
      "Epoch: 0 batch #: 213  of 300 sample #: 199 reconstruction error: 0.085682\n",
      "Epoch: 0 batch #: 214  of 300 sample #: 199 reconstruction error: 0.112048\n",
      "Epoch: 0 batch #: 215  of 300 sample #: 199 reconstruction error: 0.027016\n",
      "Epoch: 0 batch #: 216  of 300 sample #: 199 reconstruction error: 0.093724\n",
      "Epoch: 0 batch #: 217  of 300 sample #: 199 reconstruction error: 0.083577\n",
      "Epoch: 0 batch #: 218  of 300 sample #: 199 reconstruction error: 0.063975\n",
      "Epoch: 0 batch #: 219  of 300 sample #: 199 reconstruction error: 0.070221\n",
      "Epoch: 0 batch #: 220  of 300 sample #: 199 reconstruction error: 0.060331\n",
      "Epoch: 0 batch #: 221  of 300 sample #: 199 reconstruction error: 0.085877\n",
      "Epoch: 0 batch #: 222  of 300 sample #: 199 reconstruction error: 0.088242\n",
      "Epoch: 0 batch #: 223  of 300 sample #: 199 reconstruction error: 0.068551\n",
      "Epoch: 0 batch #: 224  of 300 sample #: 199 reconstruction error: 0.058844\n",
      "Epoch: 0 batch #: 225  of 300 sample #: 199 reconstruction error: 0.060904\n",
      "Epoch: 0 batch #: 226  of 300 sample #: 199 reconstruction error: 0.130358\n",
      "Epoch: 0 batch #: 227  of 300 sample #: 199 reconstruction error: 0.073405\n",
      "Epoch: 0 batch #: 228  of 300 sample #: 199 reconstruction error: 0.066846\n",
      "Epoch: 0 batch #: 229  of 300 sample #: 199 reconstruction error: 0.101040\n",
      "Epoch: 0 batch #: 230  of 300 sample #: 199 reconstruction error: 0.035084\n",
      "Epoch: 0 batch #: 231  of 300 sample #: 199 reconstruction error: 0.021518\n",
      "Epoch: 0 batch #: 232  of 300 sample #: 199 reconstruction error: 0.084710\n",
      "Epoch: 0 batch #: 233  of 300 sample #: 199 reconstruction error: 0.086491\n",
      "Epoch: 0 batch #: 234  of 300 sample #: 199 reconstruction error: 0.064512\n",
      "Epoch: 0 batch #: 235  of 300 sample #: 199 reconstruction error: 0.060741\n",
      "Epoch: 0 batch #: 236  of 300 sample #: 199 reconstruction error: 0.102727\n",
      "Epoch: 0 batch #: 237  of 300 sample #: 199 reconstruction error: 0.084047\n",
      "Epoch: 0 batch #: 238  of 300 sample #: 199 reconstruction error: 0.118142\n",
      "Epoch: 0 batch #: 239  of 300 sample #: 199 reconstruction error: 0.025779\n",
      "Epoch: 0 batch #: 240  of 300 sample #: 199 reconstruction error: 0.104024\n",
      "Epoch: 0 batch #: 241  of 300 sample #: 199 reconstruction error: 0.089938\n",
      "Epoch: 0 batch #: 242  of 300 sample #: 199 reconstruction error: 0.067809\n",
      "Epoch: 0 batch #: 243  of 300 sample #: 199 reconstruction error: 0.074382\n",
      "Epoch: 0 batch #: 244  of 300 sample #: 199 reconstruction error: 0.089582\n",
      "Epoch: 0 batch #: 245  of 300 sample #: 199 reconstruction error: 0.066945\n",
      "Epoch: 0 batch #: 246  of 300 sample #: 199 reconstruction error: 0.100630\n",
      "Epoch: 0 batch #: 247  of 300 sample #: 199 reconstruction error: 0.058225\n",
      "Epoch: 0 batch #: 248  of 300 sample #: 199 reconstruction error: 0.064000\n",
      "Epoch: 0 batch #: 249  of 300 sample #: 199 reconstruction error: 0.033581\n",
      "Epoch: 0 batch #: 250  of 300 sample #: 199 reconstruction error: 0.102767\n",
      "Epoch: 0 batch #: 251  of 300 sample #: 199 reconstruction error: 0.049707\n",
      "Epoch: 0 batch #: 252  of 300 sample #: 199 reconstruction error: 0.065365\n",
      "Epoch: 0 batch #: 253  of 300 sample #: 199 reconstruction error: 0.057541\n",
      "Epoch: 0 batch #: 254  of 300 sample #: 199 reconstruction error: 0.030198\n",
      "Epoch: 0 batch #: 255  of 300 sample #: 199 reconstruction error: 0.060300\n",
      "Epoch: 0 batch #: 256  of 300 sample #: 199 reconstruction error: 0.072363\n",
      "Epoch: 0 batch #: 257  of 300 sample #: 199 reconstruction error: 0.094075\n",
      "Epoch: 0 batch #: 258  of 300 sample #: 199 reconstruction error: 0.074798\n",
      "Epoch: 0 batch #: 259  of 300 sample #: 199 reconstruction error: 0.078359\n",
      "Epoch: 0 batch #: 260  of 300 sample #: 199 reconstruction error: 0.103255\n",
      "Epoch: 0 batch #: 261  of 300 sample #: 199 reconstruction error: 0.028770\n",
      "Epoch: 0 batch #: 262  of 300 sample #: 199 reconstruction error: 0.065103\n",
      "Epoch: 0 batch #: 263  of 300 sample #: 199 reconstruction error: 0.098085\n",
      "Epoch: 0 batch #: 264  of 300 sample #: 199 reconstruction error: 0.071633\n",
      "Epoch: 0 batch #: 265  of 300 sample #: 199 reconstruction error: 0.068683\n",
      "Epoch: 0 batch #: 266  of 300 sample #: 199 reconstruction error: 0.028431\n",
      "Epoch: 0 batch #: 267  of 300 sample #: 199 reconstruction error: 0.068992\n",
      "Epoch: 0 batch #: 268  of 300 sample #: 199 reconstruction error: 0.019218\n",
      "Epoch: 0 batch #: 269  of 300 sample #: 199 reconstruction error: 0.086747\n",
      "Epoch: 0 batch #: 270  of 300 sample #: 199 reconstruction error: 0.085293\n",
      "Epoch: 0 batch #: 271  of 300 sample #: 199 reconstruction error: 0.060924\n",
      "Epoch: 0 batch #: 272  of 300 sample #: 199 reconstruction error: 0.056714\n",
      "Epoch: 0 batch #: 273  of 300 sample #: 199 reconstruction error: 0.048360\n",
      "Epoch: 0 batch #: 274  of 300 sample #: 199 reconstruction error: 0.048849\n",
      "Epoch: 0 batch #: 275  of 300 sample #: 199 reconstruction error: 0.100676\n",
      "Epoch: 0 batch #: 276  of 300 sample #: 199 reconstruction error: 0.079449\n",
      "Epoch: 0 batch #: 277  of 300 sample #: 199 reconstruction error: 0.072929\n",
      "Epoch: 0 batch #: 278  of 300 sample #: 199 reconstruction error: 0.051902\n",
      "Epoch: 0 batch #: 279  of 300 sample #: 199 reconstruction error: 0.043238\n",
      "Epoch: 0 batch #: 280  of 300 sample #: 199 reconstruction error: 0.085612\n",
      "Epoch: 0 batch #: 281  of 300 sample #: 199 reconstruction error: 0.063380\n",
      "Epoch: 0 batch #: 282  of 300 sample #: 199 reconstruction error: 0.090045\n",
      "Epoch: 0 batch #: 283  of 300 sample #: 199 reconstruction error: 0.041940\n",
      "Epoch: 0 batch #: 284  of 300 sample #: 199 reconstruction error: 0.050698\n",
      "Epoch: 0 batch #: 285  of 300 sample #: 199 reconstruction error: 0.073904\n",
      "Epoch: 0 batch #: 286  of 300 sample #: 199 reconstruction error: 0.090512\n",
      "Epoch: 0 batch #: 287  of 300 sample #: 199 reconstruction error: 0.065647\n",
      "Epoch: 0 batch #: 288  of 300 sample #: 199 reconstruction error: 0.024126\n",
      "Epoch: 0 batch #: 289  of 300 sample #: 199 reconstruction error: 0.072017\n",
      "Epoch: 0 batch #: 290  of 300 sample #: 199 reconstruction error: 0.107587\n",
      "Epoch: 0 batch #: 291  of 300 sample #: 199 reconstruction error: 0.096949\n",
      "Epoch: 0 batch #: 292  of 300 sample #: 199 reconstruction error: 0.059583\n",
      "Epoch: 0 batch #: 293  of 300 sample #: 199 reconstruction error: 0.060057\n",
      "Epoch: 0 batch #: 294  of 300 sample #: 199 reconstruction error: 0.072212\n",
      "Epoch: 0 batch #: 295  of 300 sample #: 199 reconstruction error: 0.082720\n",
      "Epoch: 0 batch #: 296  of 300 sample #: 199 reconstruction error: 0.028624\n",
      "Epoch: 0 batch #: 297  of 300 sample #: 199 reconstruction error: 0.102586\n",
      "Epoch: 0 batch #: 298  of 300 sample #: 199 reconstruction error: 0.057529\n",
      "Epoch: 0 batch #: 299  of 300 sample #: 199 reconstruction error: 0.059319\n",
      "Epoch: 0 batch #: 300  of 300 sample #: 199 reconstruction error: 0.087461\n"
     ]
    }
   ],
   "source": [
    "#Parameters\n",
    "alpha = 0.01\n",
    "epochs = 1\n",
    "batchsize = 200\n",
    "weights = []\n",
    "errors = []\n",
    "batch_number = 0\n",
    "K = 1\n",
    "\n",
    "#creating datasets\n",
    "train_ds = \\\n",
    "    tf.data.Dataset.from_tensor_slices((trX, trY)).batch(batchsize)\n",
    "\n",
    "for epoch in range(epochs):\n",
    "    for batch_x, batch_y in train_ds:\n",
    "        batch_number += 1\n",
    "        for i_sample in range(batchsize):           \n",
    "            for k in range(K):\n",
    "                v0_state = batch_x[i_sample]\n",
    "                h0_state = hidden_layer(v0_state, W, hb)\n",
    "                v1_state = reconstructed_output(h0_state, W, vb)\n",
    "                h1_state = hidden_layer(v1_state, W, hb)\n",
    "\n",
    "                delta_W = tf.matmul(tf.transpose([v0_state]), h0_state) - tf.matmul(tf.transpose([v1_state]), h1_state)\n",
    "                W = W + alpha * delta_W\n",
    "\n",
    "                vb = vb + alpha * tf.reduce_mean(v0_state - v1_state, 0)\n",
    "                hb = hb + alpha * tf.reduce_mean(h0_state - h1_state, 0) \n",
    "\n",
    "                v0_state = v1_state\n",
    "\n",
    "            if i_sample == batchsize-1:\n",
    "                err = error(batch_x[i_sample], v1_state)\n",
    "                errors.append(err)\n",
    "                weights.append(W)\n",
    "                print ( 'Epoch: %d' % epoch, \n",
    "                       \"batch #: %i \" % batch_number, \"of %i\" % int(60e3/batchsize), \n",
    "                       \"sample #: %i\" % i_sample,\n",
    "                       'reconstruction error: %f' % err)\n",
    "\n"
   ]
  },
  {
   "cell_type": "markdown",
   "metadata": {},
   "source": [
    "Let's take a look at the errors at the end of each batch:\n"
   ]
  },
  {
   "cell_type": "code",
   "execution_count": 19,
   "metadata": {},
   "outputs": [
    {
     "data": {
      "image/png": "[encoded data removed]",
      "text/plain": [
       "<Figure size 432x288 with 1 Axes>"
      ]
     },
     "metadata": {
      "needs_background": "light"
     },
     "output_type": "display_data"
    }
   ],
   "source": [
    "plt.plot(errors)\n",
    "plt.xlabel(\"Batch Number\")\n",
    "plt.ylabel(\"Error\")\n",
    "plt.show()"
   ]
  },
  {
   "cell_type": "markdown",
   "metadata": {},
   "source": [
    "What is the final weight matrix $W$ after training?\n"
   ]
  },
  {
   "cell_type": "code",
   "execution_count": 20,
   "metadata": {},
   "outputs": [
    {
     "name": "stdout",
     "output_type": "stream",
     "text": [
      "[[-0.44999984 -0.5399998  -0.44999984 ... -0.21000002 -0.5499998\n",
      "  -0.46999982]\n",
      " [-0.40999988 -0.55999976 -0.3999999  ... -0.28       -0.6399997\n",
      "  -0.36999992]\n",
      " [-0.40999988 -0.5999997  -0.41999987 ... -0.25000003 -0.56999975\n",
      "  -0.42999986]\n",
      " ...\n",
      " [-0.43999985 -0.5999997  -0.44999984 ... -0.23000003 -0.4799998\n",
      "  -0.4899998 ]\n",
      " [-0.42999986 -0.57999974 -0.5299998  ... -0.17       -0.56999975\n",
      "  -0.4899998 ]\n",
      " [-0.42999986 -0.5399998  -0.3799999  ... -0.25000003 -0.57999974\n",
      "  -0.4899998 ]]\n"
     ]
    }
   ],
   "source": [
    "print(W.numpy()) # a weight matrix of shape (50,784)"
   ]
  },
  {
   "cell_type": "markdown",
   "metadata": {},
   "source": [
    "<a id=\"ref5\"></a>\n",
    "\n",
    "<h3>Learned features</h3> \n"
   ]
  },
  {
   "cell_type": "markdown",
   "metadata": {},
   "source": [
    "We can take each hidden unit and visualize the connections between that hidden unit and each element in the input vector. In our case, we have 50 hidden units. Lets visualize those.\n"
   ]
  },
  {
   "cell_type": "markdown",
   "metadata": {},
   "source": [
    "Let's plot the current weights:\n",
    "<b>tile_raster_images</b> helps in generating an easy to grasp image from a set of samples or weights. It transforms the <b>uw</b> (with one flattened image per row of size 784), into an array (of size $28\\times28$) in which images are reshaped and laid out like tiles on a floor.\n"
   ]
  },
  {
   "cell_type": "code",
   "execution_count": 21,
   "metadata": {},
   "outputs": [
    {
     "data": {
      "image/png": "[encoded data removed]",
      "text/plain": [
       "<Figure size 1296x1296 with 1 Axes>"
      ]
     },
     "metadata": {
      "needs_background": "light"
     },
     "output_type": "display_data"
    }
   ],
   "source": [
    "tile_raster_images(X=W.numpy().T, img_shape=(28, 28), tile_shape=(5, 10), tile_spacing=(1, 1))\n",
    "import matplotlib.pyplot as plt\n",
    "from PIL import Image\n",
    "%matplotlib inline\n",
    "image = Image.fromarray(tile_raster_images(X=W.numpy().T, img_shape=(28, 28) ,tile_shape=(5, 10), tile_spacing=(1, 1)))\n",
    "### Plot image\n",
    "plt.rcParams['figure.figsize'] = (18.0, 18.0)\n",
    "imgplot = plt.imshow(image)\n",
    "imgplot.set_cmap('gray')  "
   ]
  },
  {
   "cell_type": "markdown",
   "metadata": {},
   "source": [
    "Each tile in the above visualization corresponds to a vector of connections between a hidden unit and visible layer's units. \n"
   ]
  },
  {
   "cell_type": "markdown",
   "metadata": {},
   "source": [
    "Let's look at one of the learned weights corresponding to one of hidden units for example. In this particular square, the gray color represents weight = 0, and the whiter it is, the more positive the weights are (closer to 1). Conversely, the darker pixels are, the more negative the weights. The positive pixels will increase the probability of activation in hidden units (after multiplying by input/visible pixels), and negative pixels will decrease the probability of a unit hidden to be 1 (activated). So, why is this important?  So we can see that this specific square (hidden unit) can detect a feature (e.g. a \"/\" shape) and if it exists in the input.\n"
   ]
  },
  {
   "cell_type": "code",
   "execution_count": 22,
   "metadata": {},
   "outputs": [
    {
     "data": {
      "image/png": "[encoded data removed]",
      "text/plain": [
       "<Figure size 288x288 with 1 Axes>"
      ]
     },
     "metadata": {
      "needs_background": "light"
     },
     "output_type": "display_data"
    }
   ],
   "source": [
    "from PIL import Image\n",
    "image = Image.fromarray(tile_raster_images(X =W.numpy().T[10:11], img_shape=(28, 28),tile_shape=(1, 1), tile_spacing=(1, 1)))\n",
    "### Plot image\n",
    "plt.rcParams['figure.figsize'] = (4.0, 4.0)\n",
    "imgplot = plt.imshow(image)\n",
    "imgplot.set_cmap('gray')  "
   ]
  },
  {
   "cell_type": "markdown",
   "metadata": {},
   "source": [
    "Let's look at the reconstruction of an image now. Imagine that we have a destructed image of figure 3. Lets see if our trained network can fix it:\n",
    "\n",
    "First we plot the image:\n"
   ]
  },
  {
   "cell_type": "code",
   "execution_count": 23,
   "metadata": {},
   "outputs": [
    {
     "name": "stdout",
     "output_type": "stream",
     "text": [
      "--2021-05-01 22:08:07--  https://ibm.box.com/shared/static/vvm1b63uvuxq88vbw9znpwu5ol380mco.jpg\n",
      "Resolving ibm.box.com (ibm.box.com)... 107.152.26.197\n",
      "Connecting to ibm.box.com (ibm.box.com)|107.152.26.197|:443... connected.\n",
      "HTTP request sent, awaiting response... 301 Moved Permanently\n",
      "Location: /public/static/vvm1b63uvuxq88vbw9znpwu5ol380mco.jpg [following]\n",
      "--2021-05-01 22:08:07--  https://ibm.box.com/public/static/vvm1b63uvuxq88vbw9znpwu5ol380mco.jpg\n",
      "Reusing existing connection to ibm.box.com:443.\n",
      "HTTP request sent, awaiting response... 301 Moved Permanently\n",
      "Location: https://ibm.ent.box.com/public/static/vvm1b63uvuxq88vbw9znpwu5ol380mco.jpg [following]\n",
      "--2021-05-01 22:08:08--  https://ibm.ent.box.com/public/static/vvm1b63uvuxq88vbw9znpwu5ol380mco.jpg\n",
      "Resolving ibm.ent.box.com (ibm.ent.box.com)... 107.152.26.201\n",
      "Connecting to ibm.ent.box.com (ibm.ent.box.com)|107.152.26.201|:443... connected.\n",
      "HTTP request sent, awaiting response... 302 Found\n",
      "Location: https://public.boxcloud.com/d/1/b1!erhCR5g8ZVt3WSSenVNs2cZc572nzNbOJ5TWQgMSJ68aQELHjmJGXKWWy2B-V4Ryb_hESDY7lxtSbUqYyNg8_MDcZPPgOgoEr_Hq8eUIASwiLo-xMjSg114jiyL4lJgaTf2fluhxeBu2aFLRXEJ5OmNek6Vc6t9v1b05wzcl02IUEy8eBL9pY0Lp27L29r37FziI77OFeDR23CRO3tpnVSz8WPe4XGtZExDA3Qg7eXnoaUQPkJf835_ZPreJEk-UHKb9-I7Hnnrhw4vYf_sGYLfGgzmQv2mykafcZJ0WGjyjXkF4k9FCRSXfZb8MPQ3p08H4houpb1HEGcvnQo4ucoYtYWS_yC-w9oar54rXx-9jhfVHMl9sKmnLTwGQe32Ry5OTMwrM9ZJdcyjz9qOvsABWGy1eMzA09dK4gM8GSkISGbGV96rUMcmEUYUbJKiLkwqh-j5tAz8GCIv4x9-w_5ErojwqO1_m8b71wNBJ-OEVjPeVANwJE2EcGpS-fPXwmK57YCHQjI4utkBwJI8c6Za07Oxx3tq_mxjvWtJeRiVNQZkiDS2r_Kk3f4KOUrdxoNWtNrqwiP5Wr97SDMGgTr5SA_8xE8jq1MMEzpNX5DG3JsaE4QX4XmbH4ShuFyV-NyO_qmSkf9THfhDyEgURxZUPyXYQr10OhJh4PJRFUX8-0dToRzdiIzKlyo5x4BcaIYPjR8nBcC9B6ckzNc5cUT1RGBXwqQUdDjHNkj4H0QqzGB1UXink9ufmZmrAkJ-Obgj7zbvlfvFiPn2RO8O48a5PwVZB5-JlmN4WzMTmaPbNAqpDiFuZoqc3cIhZ62zkxPjruv3zkRkCN-otwOjkj_nwylxbH7dnCIP36OvS6QvLLdAZKha4jnql7og8huwb8fgdexXnqfiZjWOgb1F68o7qka9phV8uU-EOkvqW92hn0j1n4Ull-IiVLJ3Myki-2tUalex-_6G43v3GX_BAyJdwqjkIe66r8XBytl9NF4v_EF2UUIOaJsrMepW_63RdyH235QVfPCN-HELXWPU6-pYLSrEPPFvMh1Q2IXPnWWegOVCVvZ4ItNLDj7HzUycRNwr8cY_fYp-uR2-6NVTQh3rfX88lmP2HA7VrEOEuWzhhTw6iMiGjJ9oz2Q_PvNwGoVvXGdSzWZhpfkN0FtZOP5yW75UMxjqtTr_9xVUPJwMhy2tCN8dJGTm0uDwgO9SQR4v2I0HGpdxiu-o-KNO7g0rP0E7rZGCoS8gZDOQ-YnusEIQAvvVgiIEK_ytbGGPcbSfrnM6hIuXvpDg-EaLegrf_fUTvTNyUVDAkxiMBo_UZ1fjuJ_pCvTEBJNJKHuJuIb66OUzzv-gsL9gjed8YXTJG6_4htS8509fKf2dUy50lDuagcGGcXfyza5hdSQT54Ih1IeeTtJZ76gfQNdN6tOlBoLN07l4HfAtUUOK1vmY9L1GuxoMRQKyR7-Yt3OxI8Q../download [following]\n",
      "--2021-05-01 22:08:08--  https://public.boxcloud.com/d/1/b1!erhCR5g8ZVt3WSSenVNs2cZc572nzNbOJ5TWQgMSJ68aQELHjmJGXKWWy2B-V4Ryb_hESDY7lxtSbUqYyNg8_MDcZPPgOgoEr_Hq8eUIASwiLo-xMjSg114jiyL4lJgaTf2fluhxeBu2aFLRXEJ5OmNek6Vc6t9v1b05wzcl02IUEy8eBL9pY0Lp27L29r37FziI77OFeDR23CRO3tpnVSz8WPe4XGtZExDA3Qg7eXnoaUQPkJf835_ZPreJEk-UHKb9-I7Hnnrhw4vYf_sGYLfGgzmQv2mykafcZJ0WGjyjXkF4k9FCRSXfZb8MPQ3p08H4houpb1HEGcvnQo4ucoYtYWS_yC-w9oar54rXx-9jhfVHMl9sKmnLTwGQe32Ry5OTMwrM9ZJdcyjz9qOvsABWGy1eMzA09dK4gM8GSkISGbGV96rUMcmEUYUbJKiLkwqh-j5tAz8GCIv4x9-w_5ErojwqO1_m8b71wNBJ-OEVjPeVANwJE2EcGpS-fPXwmK57YCHQjI4utkBwJI8c6Za07Oxx3tq_mxjvWtJeRiVNQZkiDS2r_Kk3f4KOUrdxoNWtNrqwiP5Wr97SDMGgTr5SA_8xE8jq1MMEzpNX5DG3JsaE4QX4XmbH4ShuFyV-NyO_qmSkf9THfhDyEgURxZUPyXYQr10OhJh4PJRFUX8-0dToRzdiIzKlyo5x4BcaIYPjR8nBcC9B6ckzNc5cUT1RGBXwqQUdDjHNkj4H0QqzGB1UXink9ufmZmrAkJ-Obgj7zbvlfvFiPn2RO8O48a5PwVZB5-JlmN4WzMTmaPbNAqpDiFuZoqc3cIhZ62zkxPjruv3zkRkCN-otwOjkj_nwylxbH7dnCIP36OvS6QvLLdAZKha4jnql7og8huwb8fgdexXnqfiZjWOgb1F68o7qka9phV8uU-EOkvqW92hn0j1n4Ull-IiVLJ3Myki-2tUalex-_6G43v3GX_BAyJdwqjkIe66r8XBytl9NF4v_EF2UUIOaJsrMepW_63RdyH235QVfPCN-HELXWPU6-pYLSrEPPFvMh1Q2IXPnWWegOVCVvZ4ItNLDj7HzUycRNwr8cY_fYp-uR2-6NVTQh3rfX88lmP2HA7VrEOEuWzhhTw6iMiGjJ9oz2Q_PvNwGoVvXGdSzWZhpfkN0FtZOP5yW75UMxjqtTr_9xVUPJwMhy2tCN8dJGTm0uDwgO9SQR4v2I0HGpdxiu-o-KNO7g0rP0E7rZGCoS8gZDOQ-YnusEIQAvvVgiIEK_ytbGGPcbSfrnM6hIuXvpDg-EaLegrf_fUTvTNyUVDAkxiMBo_UZ1fjuJ_pCvTEBJNJKHuJuIb66OUzzv-gsL9gjed8YXTJG6_4htS8509fKf2dUy50lDuagcGGcXfyza5hdSQT54Ih1IeeTtJZ76gfQNdN6tOlBoLN07l4HfAtUUOK1vmY9L1GuxoMRQKyR7-Yt3OxI8Q../download\n",
      "Resolving public.boxcloud.com (public.boxcloud.com)... 107.152.26.200\n",
      "Connecting to public.boxcloud.com (public.boxcloud.com)|107.152.26.200|:443... connected.\n",
      "HTTP request sent, awaiting response... 200 OK\n",
      "Length: 24383 (24K) [image/jpeg]\n",
      "Saving to: ‘destructed3.jpg’\n",
      "\n",
      "destructed3.jpg     100%[===================>]  23.81K  --.-KB/s    in 0.04s   \n",
      "\n",
      "2021-05-01 22:08:09 (665 KB/s) - ‘destructed3.jpg’ saved [24383/24383]\n",
      "\n"
     ]
    },
    {
     "data": {
      "image/png": "[encoded data removed]",
      "text/plain": [
       "<PIL.JpegImagePlugin.JpegImageFile image mode=RGB size=181x181 at 0x7F449C56CBE0>"
      ]
     },
     "execution_count": 23,
     "metadata": {},
     "output_type": "execute_result"
    }
   ],
   "source": [
    "!wget -O destructed3.jpg  https://ibm.box.com/shared/static/vvm1b63uvuxq88vbw9znpwu5ol380mco.jpg\n",
    "img = Image.open('destructed3.jpg')\n",
    "img"
   ]
  },
  {
   "cell_type": "markdown",
   "metadata": {},
   "source": [
    "Now let's pass this image through the neural net:\n"
   ]
  },
  {
   "cell_type": "code",
   "execution_count": 24,
   "metadata": {},
   "outputs": [],
   "source": [
    "# convert the image to a 1d numpy array\n",
    "sample_case = np.array(img.convert('I').resize((28,28))).ravel().reshape((1, -1))/255.0\n",
    "\n",
    "sample_case = tf.cast(sample_case, dtype=tf.float32)"
   ]
  },
  {
   "cell_type": "markdown",
   "metadata": {},
   "source": [
    "Feed the sample case into the network and reconstruct the output:\n"
   ]
  },
  {
   "cell_type": "code",
   "execution_count": 25,
   "metadata": {},
   "outputs": [
    {
     "name": "stdout",
     "output_type": "stream",
     "text": [
      "Probability nodes in hidden layer: tf.Tensor(\n",
      "[[1.5206265e-01 9.7487664e-01 6.7329870e-07 9.4587946e-14 5.6822451e-08\n",
      "  2.3788607e-10 2.3508370e-03 5.3347915e-02 5.0405532e-02 2.9291995e-09\n",
      "  9.9412644e-01 2.4309857e-10 9.9997234e-01 1.4942949e-09 1.0086879e-01\n",
      "  6.7767727e-01 8.8484627e-01 9.9952805e-01 1.4398493e-07 1.7921035e-06\n",
      "  2.4269104e-02 8.0432300e-16 5.0573466e-15 2.1191468e-06 1.0123597e-10\n",
      "  7.3113639e-05 1.0000000e+00 1.1885715e-08 1.0000000e+00 8.3777130e-02\n",
      "  2.4908775e-09 7.6867610e-07 1.0932982e-03 8.8265950e-10 1.3021443e-13\n",
      "  9.9999774e-01 1.0000000e+00 6.5573709e-05 3.6447751e-08 4.0666404e-14\n",
      "  1.2506247e-03 2.5906759e-09 1.0000000e+00 1.0000000e+00 4.8381525e-01\n",
      "  1.0000000e+00 9.3505097e-09 9.9923444e-01 9.9999750e-01 2.0335107e-09]], shape=(1, 50), dtype=float32)\n",
      "activated nodes in hidden layer: tf.Tensor(\n",
      "[[0. 1. 0. 0. 0. 0. 0. 0. 0. 0. 1. 0. 1. 0. 0. 1. 1. 1. 0. 0. 0. 0. 0. 0.\n",
      "  0. 0. 1. 0. 1. 0. 0. 0. 0. 0. 0. 1. 1. 0. 0. 0. 0. 0. 1. 1. 0. 1. 0. 1.\n",
      "  1. 0.]], shape=(1, 50), dtype=float32)\n",
      "tf.Tensor(\n",
      "[[5.08815050e-04 3.05712223e-04 4.55856323e-04 5.45799732e-04\n",
      "  5.97149134e-04 3.21328640e-04 4.46856022e-04 4.79191542e-04\n",
      "  2.79366970e-04 5.19126654e-04 4.74482775e-04 3.84658575e-04\n",
      "  4.19259071e-04 3.57210636e-04 4.45127487e-04 3.67045403e-04\n",
      "  3.62247229e-04 6.27726316e-04 3.92436981e-04 3.37868929e-04\n",
      "  6.34044409e-04 4.55856323e-04 4.84049320e-04 4.55856323e-04\n",
      "  3.73333693e-04 5.29617071e-04 4.69774008e-04 5.08815050e-04\n",
      "  3.05712223e-04 3.44663858e-04 3.62247229e-04 3.34441662e-04\n",
      "  6.17593527e-04 4.26113605e-04 5.06192446e-04 4.25100327e-04\n",
      "  5.40584326e-04 4.35411930e-04 8.22573900e-04 6.19024038e-04\n",
      "  5.53488731e-04 5.30570745e-04 7.75814056e-04 5.60611486e-04\n",
      "  1.42294168e-03 1.19420886e-03 7.42375851e-04 6.63757324e-04\n",
      "  8.39889050e-04 4.19557095e-04 3.72409821e-04 3.94612551e-04\n",
      "  4.04328108e-04 4.98801470e-04 4.88936901e-04 5.85287809e-04\n",
      "  4.46856022e-04 2.87920237e-04 4.82916832e-04 6.23077154e-04\n",
      "  3.91989946e-04 4.07069921e-04 3.96162271e-04 9.11623240e-04\n",
      "  6.88046217e-04 5.76198101e-04 3.28361988e-04 1.99764967e-04\n",
      "  1.68412924e-04 2.21043825e-04 4.32372093e-04 7.92890787e-04\n",
      "  6.07639551e-04 2.49296427e-04 2.82496214e-04 2.30312347e-04\n",
      "  2.56270170e-04 1.14905834e-03 1.40067935e-03 7.20471144e-04\n",
      "  4.02629375e-04 5.39839268e-04 5.45799732e-04 4.93824482e-04\n",
      "  4.20808792e-04 4.55856323e-04 3.83675098e-04 4.45127487e-04\n",
      "  5.75661659e-04 6.51180744e-04 6.65873289e-04 4.12076712e-04\n",
      "  4.44531441e-04 3.54200602e-04 2.43753195e-04 1.58727169e-04\n",
      "  3.41117382e-04 1.21593475e-03 3.79300117e-03 5.72502613e-03\n",
      "  7.59154558e-03 5.41472435e-03 3.87546420e-03 2.82359123e-03\n",
      "  1.10504031e-03 1.06295943e-03 1.41367316e-03 2.32559443e-03\n",
      "  6.69449568e-04 5.26934862e-04 5.59180975e-04 3.92436981e-04\n",
      "  4.04328108e-04 5.18023968e-04 4.78357077e-04 5.63770533e-04\n",
      "  7.09265471e-04 1.18049979e-03 1.40604377e-03 1.89745426e-03\n",
      "  2.51001120e-03 1.79859996e-03 2.52133608e-03 4.05749679e-03\n",
      "  9.00202990e-03 3.10033560e-02 6.63167834e-02 8.97085667e-02\n",
      "  2.40055323e-01 3.17007244e-01 1.53342187e-01 2.81485021e-02\n",
      "  1.03399158e-02 7.84185529e-03 1.53826475e-02 7.90354609e-03\n",
      "  6.44618273e-03 2.08467245e-03 7.38292933e-04 5.07980585e-04\n",
      "  3.80814075e-04 4.29362059e-04 4.31239605e-04 1.02078915e-03\n",
      "  1.68290734e-03 2.20209360e-03 3.38527560e-03 1.01702213e-02\n",
      "  1.60976648e-02 1.93534791e-02 2.68812180e-02 6.60571158e-02\n",
      "  2.43751556e-01 5.51970959e-01 8.91340256e-01 9.25275624e-01\n",
      "  9.42436218e-01 9.43240762e-01 7.52469540e-01 4.49561208e-01\n",
      "  2.53336251e-01 1.18538797e-01 1.43787533e-01 3.37075889e-02\n",
      "  1.02633238e-02 4.74494696e-03 1.53890252e-03 2.46644020e-04\n",
      "  3.21328640e-04 4.40031290e-04 1.00889802e-03 1.38634443e-03\n",
      "  2.06607580e-03 5.04845381e-03 6.95618987e-03 2.63089836e-02\n",
      "  2.93635428e-02 3.87631953e-02 1.79218143e-01 5.85001469e-01\n",
      "  8.86426687e-01 9.37590480e-01 9.56545711e-01 9.54330325e-01\n",
      "  9.48251188e-01 9.15202379e-01 8.50363255e-01 7.20368207e-01\n",
      "  5.71974695e-01 2.48909265e-01 1.45129025e-01 4.35681939e-02\n",
      "  1.25224292e-02 3.63108516e-03 1.72907114e-03 5.31375408e-04\n",
      "  4.21315432e-04 4.97311354e-04 6.58243895e-04 1.44442916e-03\n",
      "  1.06617808e-03 7.57363439e-03 1.05776489e-02 1.45076513e-02\n",
      "  2.58044600e-02 1.76985860e-01 2.44218588e-01 7.46789813e-01\n",
      "  9.18117762e-01 9.24530149e-01 8.77764821e-01 8.19403231e-01\n",
      "  6.80688739e-01 3.91200304e-01 4.69312131e-01 6.82949066e-01\n",
      "  7.01275647e-01 5.08451939e-01 2.17890054e-01 3.92078161e-02\n",
      "  8.17513466e-03 1.20890141e-03 1.16115808e-03 5.68240881e-04\n",
      "  2.88248062e-04 5.14835119e-04 6.66469336e-04 9.76383686e-04\n",
      "  1.59016252e-03 3.70228291e-03 8.90845060e-03 2.04102993e-02\n",
      "  2.12311745e-02 9.15275812e-02 2.92073607e-01 7.37116575e-01\n",
      "  8.39521885e-01 5.48790038e-01 2.43166208e-01 1.39567614e-01\n",
      "  1.52586281e-01 1.15693927e-01 9.66024101e-02 4.94424194e-01\n",
      "  8.23070049e-01 7.10113406e-01 2.57743001e-01 5.48956394e-02\n",
      "  3.51950526e-03 1.58134103e-03 2.08097696e-03 7.71254301e-04\n",
      "  6.18189573e-04 5.31703234e-04 4.44650650e-04 6.12407923e-04\n",
      "  7.75486231e-04 3.45078111e-03 9.04810429e-03 6.74888492e-03\n",
      "  2.53073871e-02 5.96697628e-02 2.46342063e-01 5.98604858e-01\n",
      "  4.15743947e-01 2.46049762e-01 4.03639078e-02 4.17161286e-02\n",
      "  3.24137807e-02 3.96904349e-02 2.10890800e-01 6.68618560e-01\n",
      "  9.20186877e-01 8.65161300e-01 2.63374984e-01 2.29034722e-02\n",
      "  4.49764729e-03 1.13585591e-03 1.08221173e-03 6.28352165e-04\n",
      "  4.58598137e-04 4.10407782e-04 5.73098660e-04 1.01783872e-03\n",
      "  1.26063824e-03 2.44984031e-03 3.77139449e-03 1.01962984e-02\n",
      "  1.84901655e-02 3.63350511e-02 2.79471874e-01 4.28462267e-01\n",
      "  3.87876719e-01 7.22192228e-02 4.24997509e-02 1.14311516e-01\n",
      "  1.21838033e-01 2.12024659e-01 5.50289035e-01 8.63611817e-01\n",
      "  9.57200050e-01 7.60065317e-01 1.66192383e-01 1.68258250e-02\n",
      "  1.89056993e-03 1.10560656e-03 7.80642033e-04 3.72976065e-04\n",
      "  6.42448664e-04 8.42005014e-04 7.54386187e-04 8.48710537e-04\n",
      "  3.08305025e-03 3.26052308e-03 5.65201044e-03 7.18522072e-03\n",
      "  1.08088255e-02 3.43119204e-02 2.22255588e-01 5.39006174e-01\n",
      "  5.05616128e-01 4.30496812e-01 2.68530130e-01 3.40040594e-01\n",
      "  4.64924634e-01 6.35415316e-01 7.63668299e-01 9.26701665e-01\n",
      "  8.74512076e-01 4.86904323e-01 6.23545051e-02 8.95577669e-03\n",
      "  1.66812539e-03 1.90845132e-03 5.35815954e-04 3.64780426e-04\n",
      "  3.86089087e-04 4.42862511e-04 8.38607550e-04 7.84009695e-04\n",
      "  3.94353271e-03 4.60067391e-03 7.62414932e-03 1.07201040e-02\n",
      "  1.16091073e-02 2.64009535e-02 1.78853840e-01 5.98303854e-01\n",
      "  8.18366528e-01 6.88939691e-01 7.28073716e-01 7.29922891e-01\n",
      "  6.63329244e-01 7.05233157e-01 7.85866976e-01 7.72527337e-01\n",
      "  7.21431434e-01 1.63807541e-01 3.58823538e-02 3.22875381e-03\n",
      "  1.06218457e-03 1.18571520e-03 9.41097736e-04 5.88327646e-04\n",
      "  5.58912754e-04 3.75092030e-04 5.89847565e-04 1.05252862e-03\n",
      "  1.11836195e-03 4.87843156e-03 8.41775537e-03 1.27587616e-02\n",
      "  1.04137063e-02 3.68777514e-02 1.93655312e-01 6.58240199e-01\n",
      "  8.36678743e-01 8.86232257e-01 8.51142526e-01 8.00887942e-01\n",
      "  7.05356717e-01 6.71339631e-01 6.43513143e-01 6.46335781e-01\n",
      "  3.55324417e-01 3.99001241e-02 5.85898757e-03 2.53874063e-03\n",
      "  6.03079796e-04 1.52245164e-03 1.12056732e-03 5.20288944e-04\n",
      "  5.00977039e-04 4.80979681e-04 4.56511974e-04 1.12280250e-03\n",
      "  1.79228187e-03 5.24416566e-03 1.41490996e-02 1.30526721e-02\n",
      "  1.81226432e-02 3.67850661e-02 1.16721123e-01 6.85372114e-01\n",
      "  8.78955066e-01 9.41639066e-01 8.98487568e-01 8.41133237e-01\n",
      "  7.55322635e-01 5.67800343e-01 5.12678981e-01 2.87329137e-01\n",
      "  6.43242002e-02 9.94798541e-03 7.19973445e-03 3.66428494e-03\n",
      "  9.35673714e-04 6.11245632e-04 8.22693110e-04 3.19451094e-04\n",
      "  5.22524118e-04 5.06371260e-04 7.73370266e-04 2.71540880e-03\n",
      "  1.12185180e-02 1.37758255e-02 1.58494413e-02 3.32529247e-02\n",
      "  1.98722780e-02 2.69612670e-02 3.78676057e-02 1.85626984e-01\n",
      "  5.36552131e-01 5.44598520e-01 6.97373390e-01 6.61614239e-01\n",
      "  5.54338336e-01 5.74457645e-01 5.09297132e-01 2.12606579e-01\n",
      "  4.30241525e-02 6.51809573e-03 3.37836146e-03 2.22709775e-03\n",
      "  2.79805064e-03 5.52743673e-04 6.47872686e-04 4.50879335e-04\n",
      "  4.04745340e-04 5.85258007e-04 1.48063898e-03 8.98844004e-03\n",
      "  2.95688212e-02 4.42461073e-02 7.11598098e-02 5.54188490e-02\n",
      "  2.29536593e-02 2.49432623e-02 3.31766307e-02 6.97200000e-02\n",
      "  9.01284218e-02 1.97923332e-01 2.63344109e-01 2.69110620e-01\n",
      "  3.95752311e-01 5.56310296e-01 6.57261014e-01 2.77756035e-01\n",
      "  3.20808291e-02 7.39189982e-03 4.23118472e-03 2.77194381e-03\n",
      "  1.48704648e-03 4.96596098e-04 8.49425793e-04 4.18126583e-04\n",
      "  3.05712223e-04 4.11927700e-04 1.63248181e-03 1.48351490e-02\n",
      "  9.16408598e-02 1.40225470e-01 2.92809129e-01 1.37023747e-01\n",
      "  3.33670080e-02 3.67301106e-02 3.69424820e-02 5.37831485e-02\n",
      "  4.59709764e-02 7.72095621e-02 1.30651891e-01 1.67651176e-01\n",
      "  1.99078351e-01 5.25372505e-01 7.45253325e-01 3.39977384e-01\n",
      "  1.44740611e-01 1.51900351e-02 1.55222416e-02 6.14881516e-03\n",
      "  2.36335397e-03 1.10444427e-03 8.46534967e-04 6.44356012e-04\n",
      "  3.68028879e-04 7.98940659e-04 2.98836827e-03 4.15273011e-02\n",
      "  8.63266885e-02 3.83211046e-01 5.17527759e-01 2.20581710e-01\n",
      "  5.58210015e-02 3.22507322e-02 2.77694762e-02 3.05804014e-02\n",
      "  6.15120232e-02 1.02746189e-01 6.40310347e-02 5.09915650e-02\n",
      "  9.69687104e-02 6.81422353e-01 8.03100586e-01 6.79804027e-01\n",
      "  1.40172988e-01 3.55994105e-02 1.95623934e-02 5.88887930e-03\n",
      "  3.99872661e-03 1.75896287e-03 6.35594130e-04 6.72459602e-04\n",
      "  4.36246395e-04 6.13927841e-04 6.52819872e-03 1.05820119e-01\n",
      "  3.25115502e-01 5.36078811e-01 5.96013486e-01 3.05524647e-01\n",
      "  8.55843723e-02 4.62574065e-02 8.30532908e-02 5.71291447e-02\n",
      "  2.08126545e-01 1.74098343e-01 5.70871234e-02 9.19476748e-02\n",
      "  1.62427098e-01 7.64546871e-01 8.80198538e-01 5.97975612e-01\n",
      "  1.55145854e-01 2.89430618e-02 1.15707815e-02 4.43685055e-03\n",
      "  4.31099534e-03 2.32037902e-03 1.05616450e-03 5.27232885e-04\n",
      "  3.84658575e-04 6.04659319e-04 7.63565302e-03 1.43239588e-01\n",
      "  4.54777539e-01 6.94124520e-01 7.93461621e-01 5.92928767e-01\n",
      "  2.80357420e-01 2.13030607e-01 1.10855997e-01 2.61063576e-01\n",
      "  4.43092823e-01 1.81064397e-01 6.99765384e-02 1.43106788e-01\n",
      "  3.21393609e-01 8.14027905e-01 8.06852639e-01 3.60917211e-01\n",
      "  1.56394690e-01 2.20659375e-02 6.88189268e-03 3.33604217e-03\n",
      "  2.68003345e-03 1.53210759e-03 1.09884143e-03 3.18646431e-04\n",
      "  4.85271215e-04 3.85999680e-04 6.68242574e-03 1.59782201e-01\n",
      "  4.51845199e-01 7.47506738e-01 8.87982845e-01 8.05584908e-01\n",
      "  5.18272102e-01 2.05368429e-01 2.54960895e-01 4.33000922e-01\n",
      "  5.36239326e-01 2.00705737e-01 1.59014910e-01 1.65103018e-01\n",
      "  4.34861481e-01 5.53950965e-01 4.96893704e-01 2.02040017e-01\n",
      "  2.84152925e-02 8.39051604e-03 4.28372622e-03 2.02953815e-03\n",
      "  2.56419182e-03 2.63199210e-03 5.56498766e-04 3.63647938e-04\n",
      "  5.04851341e-04 5.71548939e-04 3.44097614e-03 8.90460312e-02\n",
      "  2.89477229e-01 6.19109392e-01 8.71214688e-01 9.09277678e-01\n",
      "  7.40740657e-01 4.98932064e-01 5.13123870e-01 8.20565224e-01\n",
      "  6.25679851e-01 3.04013431e-01 3.38744760e-01 1.89000309e-01\n",
      "  2.54864812e-01 1.20488733e-01 1.34168833e-01 1.01922810e-01\n",
      "  2.73406506e-02 6.35969639e-03 2.77036428e-03 2.29880214e-03\n",
      "  1.43623352e-03 1.42136216e-03 4.60267067e-04 3.39627266e-04\n",
      "  5.13970852e-04 3.24487686e-04 6.77883625e-04 1.58949494e-02\n",
      "  1.05295509e-01 4.16915834e-01 5.79770148e-01 6.60710216e-01\n",
      "  7.05287218e-01 6.68652475e-01 8.82252991e-01 8.34717810e-01\n",
      "  6.48556530e-01 3.87018830e-01 1.27112389e-01 8.49893987e-02\n",
      "  2.92802751e-02 1.74632370e-02 1.95339620e-02 2.34139264e-02\n",
      "  1.54649317e-02 5.19031286e-03 1.43772364e-03 2.26131082e-03\n",
      "  1.17775798e-03 9.17345285e-04 5.40494919e-04 5.79476357e-04\n",
      "  3.88503075e-04 4.88936901e-04 7.57783651e-04 2.33405828e-03\n",
      "  1.01728737e-02 1.09815389e-01 2.54861176e-01 4.33023691e-01\n",
      "  4.82853562e-01 4.74623948e-01 6.12532437e-01 6.05371118e-01\n",
      "  2.86423504e-01 8.63896012e-02 2.79935896e-02 1.31518245e-02\n",
      "  7.72485137e-03 3.98465991e-03 3.40756774e-03 2.86373496e-03\n",
      "  4.55161929e-03 1.35684013e-03 1.38586760e-03 8.93026590e-04\n",
      "  7.89582729e-04 6.76542521e-04 3.45706940e-04 3.18109989e-04\n",
      "  6.93678856e-04 7.14808702e-04 5.02973795e-04 4.15652990e-04\n",
      "  5.19931316e-04 3.29118967e-03 6.13811612e-03 1.73051953e-02\n",
      "  1.33175850e-02 1.33859217e-02 1.70527995e-02 9.92241502e-03\n",
      "  1.93175673e-03 6.99758530e-04 2.30908394e-04 2.10464001e-04\n",
      "  7.61032104e-04 2.70038843e-04 4.12255526e-04 1.25616789e-03\n",
      "  1.42681599e-03 5.52743673e-04 1.06787682e-03 4.67151403e-04\n",
      "  5.11676073e-04 3.86089087e-04 3.80247831e-04 6.15298748e-04\n",
      "  4.16666269e-04 8.05854797e-04 6.34044409e-04 5.65081835e-04\n",
      "  4.43071127e-04 1.78751349e-03 1.45813823e-03 7.05510378e-04\n",
      "  9.97215509e-04 5.55276871e-04 4.61131334e-04 3.96847725e-04\n",
      "  1.73777342e-04 5.62309542e-05 5.06971992e-05 9.22561812e-05\n",
      "  1.72704458e-04 2.26616859e-04 4.47750092e-04 6.25163317e-04\n",
      "  4.91827726e-04 4.12017107e-04 3.38524580e-04 3.96251678e-04\n",
      "  4.68641520e-04 4.87089157e-04 2.87920237e-04 4.69774008e-04\n",
      "  6.40362501e-04 4.33653593e-04 5.08815050e-04 6.27696514e-04\n",
      "  3.98308039e-04 4.12970781e-04 4.78267670e-04 5.51611185e-04\n",
      "  1.23748183e-03 8.14169645e-04 1.03792548e-03 6.14136457e-04\n",
      "  3.70979309e-04 4.84406948e-04 3.86744738e-04 4.53174114e-04\n",
      "  4.43667173e-04 8.21381807e-04 6.13540411e-04 4.63277102e-04\n",
      "  4.68283892e-04 4.65393066e-04 3.55750322e-04 4.70310450e-04\n",
      "  4.08470631e-04 5.08815050e-04 5.29617071e-04 4.55856323e-04]], shape=(1, 784), dtype=float32)\n"
     ]
    }
   ],
   "source": [
    "hh0_p = tf.nn.sigmoid(tf.matmul(sample_case, W) + hb)\n",
    "hh0_s = tf.round(hh0_p)\n",
    "\n",
    "print(\"Probability nodes in hidden layer:\" ,hh0_p)\n",
    "print(\"activated nodes in hidden layer:\" ,hh0_s)\n",
    "\n",
    "# reconstruct\n",
    "vv1_p = tf.nn.sigmoid(tf.matmul(hh0_s, tf.transpose(W)) + vb)\n",
    "\n",
    "print(vv1_p)\n",
    "#rec_prob = sess.run(vv1_p, feed_dict={ hh0_s: hh0_s_val, W: prv_w, vb: prv_vb})"
   ]
  },
  {
   "cell_type": "markdown",
   "metadata": {},
   "source": [
    "Here we plot the reconstructed image:\n"
   ]
  },
  {
   "cell_type": "code",
   "execution_count": 26,
   "metadata": {},
   "outputs": [
    {
     "data": {
      "image/png": "[encoded data removed]",
      "text/plain": [
       "<Figure size 288x288 with 1 Axes>"
      ]
     },
     "metadata": {
      "needs_background": "light"
     },
     "output_type": "display_data"
    }
   ],
   "source": [
    "img = Image.fromarray(tile_raster_images(X=vv1_p.numpy(), img_shape=(28, 28),tile_shape=(1, 1), tile_spacing=(1, 1)))\n",
    "plt.rcParams['figure.figsize'] = (4.0, 4.0)\n",
    "imgplot = plt.imshow(img)\n",
    "imgplot.set_cmap('gray') "
   ]
  },
  {
   "cell_type": "markdown",
   "metadata": {},
   "source": [
    "### References:\n",
    "\n",
    "[https://en.wikipedia.org/wiki/Restricted_Boltzmann_machine](https://en.wikipedia.org/wiki/Restricted_Boltzmann_machine?cm_mmc=Email_Newsletter-_-Developer_Ed%2BTech-_-WW_WW-_-SkillsNetwork-Courses-IBMDeveloperSkillsNetwork-DL0120EN-SkillsNetwork-20629446&cm_mmca1=000026UJ&cm_mmca2=10006555&cm_mmca3=M12345678&cvosrc=email.Newsletter.M12345678&cvo_campaign=000026UJ)  \n",
    "[http://deeplearning.net/tutorial/rbm.html](http://deeplearning.net/tutorial/rbm.html?cm_mmc=Email_Newsletter-_-Developer_Ed%2BTech-_-WW_WW-_-SkillsNetwork-Courses-IBMDeveloperSkillsNetwork-DL0120EN-SkillsNetwork-20629446&cm_mmca1=000026UJ&cm_mmca2=10006555&cm_mmca3=M12345678&cvosrc=email.Newsletter.M12345678&cvo_campaign=000026UJ&cm_mmc=Email_Newsletter-_-Developer_Ed%2BTech-_-WW_WW-_-SkillsNetwork-Courses-IBMDeveloperSkillsNetwork-DL0120EN-SkillsNetwork-20629446&cm_mmca1=000026UJ&cm_mmca2=10006555&cm_mmca3=M12345678&cvosrc=email.Newsletter.M12345678&cvo_campaign=000026UJ)  \n",
    "[http://www.cs.utoronto.ca/~hinton/absps/netflixICML.pdf](http://www.cs.utoronto.ca/~hinton/absps/netflixICML.pdf?cm_mmc=Email_Newsletter-_-Developer_Ed%2BTech-_-WW_WW-_-SkillsNetwork-Courses-IBMDeveloperSkillsNetwork-DL0120EN-SkillsNetwork-20629446&cm_mmca1=000026UJ&cm_mmca2=10006555&cm_mmca3=M12345678&cvosrc=email.Newsletter.M12345678&cvo_campaign=000026UJ&cm_mmc=Email_Newsletter-_-Developer_Ed%2BTech-_-WW_WW-_-SkillsNetwork-Courses-IBMDeveloperSkillsNetwork-DL0120EN-SkillsNetwork-20629446&cm_mmca1=000026UJ&cm_mmca2=10006555&cm_mmca3=M12345678&cvosrc=email.Newsletter.M12345678&cvo_campaign=000026UJ)<br>\n",
    "<http://imonad.com/rbm/restricted-boltzmann-machine/>  \n"
   ]
  },
  {
   "cell_type": "markdown",
   "metadata": {},
   "source": [
    "<hr>\n",
    "\n",
    "Copyright © 2018 [Cognitive Class](https://cocl.us/DX0108EN_CC). This notebook and its source code are released under the terms of the [MIT License](https://bigdatauniversity.com/mit-license?cm_mmc=Email_Newsletter-_-Developer_Ed%2BTech-_-WW_WW-_-SkillsNetwork-Courses-IBMDeveloperSkillsNetwork-DL0120EN-SkillsNetwork-20629446&cm_mmca1=000026UJ&cm_mmca2=10006555&cm_mmca3=M12345678&cvosrc=email.Newsletter.M12345678&cvo_campaign=000026UJ&cm_mmc=Email_Newsletter-_-Developer_Ed%2BTech-_-WW_WW-_-SkillsNetwork-Courses-IBMDeveloperSkillsNetwork-DL0120EN-SkillsNetwork-20629446&cm_mmca1=000026UJ&cm_mmca2=10006555&cm_mmca3=M12345678&cvosrc=email.Newsletter.M12345678&cvo_campaign=000026UJ).\n"
   ]
  }
 ],
 "metadata": {
  "kernelspec": {
   "display_name": "Python 3",
   "language": "python",
   "name": "python3"
  },
  "language_info": {
   "codemirror_mode": {
    "name": "ipython",
    "version": 3
   },
   "file_extension": ".py",
   "mimetype": "text/x-python",
   "name": "python",
   "nbconvert_exporter": "python",
   "pygments_lexer": "ipython3",
   "version": "3.9.4"
  },
  "widgets": {
   "state": {},
   "version": "1.1.2"
  }
 },
 "nbformat": 4,
 "nbformat_minor": 4
}
